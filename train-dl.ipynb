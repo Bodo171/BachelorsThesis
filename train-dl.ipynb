{
 "cells": [
  {
   "cell_type": "code",
   "execution_count": 1,
   "id": "8c896aec",
   "metadata": {
    "_cell_guid": "b1076dfc-b9ad-4769-8c92-a6c4dae69d19",
    "_uuid": "8f2839f25d086af736a60e9eeb907d3b93b6e0e5",
    "execution": {
     "iopub.execute_input": "2022-06-06T22:10:22.428947Z",
     "iopub.status.busy": "2022-06-06T22:10:22.427775Z",
     "iopub.status.idle": "2022-06-06T22:10:22.448818Z",
     "shell.execute_reply": "2022-06-06T22:10:22.449799Z",
     "shell.execute_reply.started": "2022-06-06T19:58:49.484653Z"
    },
    "papermill": {
     "duration": 0.075102,
     "end_time": "2022-06-06T22:10:22.450119",
     "exception": false,
     "start_time": "2022-06-06T22:10:22.375017",
     "status": "completed"
    },
    "tags": []
   },
   "outputs": [
    {
     "name": "stdout",
     "output_type": "stream",
     "text": [
      "/kaggle/input/embeddingsforcodeforces/embedding_cache_new.p\n",
      "/kaggle/input/codeforces-dataset/data.csv\n"
     ]
    }
   ],
   "source": [
    "# This Python 3 environment comes with many helpful analytics libraries installed\n",
    "# It is defined by the kaggle/python Docker image: https://github.com/kaggle/docker-python\n",
    "# For example, here's several helpful packages to load\n",
    "\n",
    "import numpy as np # linear algebra\n",
    "import pandas as pd # data processing, CSV file I/O (e.g. pd.read_csv)\n",
    "\n",
    "# Input data files are available in the read-only \"../input/\" directory\n",
    "# For example, running this (by clicking run or pressing Shift+Enter) will list all files under the input directory\n",
    "\n",
    "import os\n",
    "for dirname, _, filenames in os.walk('/kaggle/input'):\n",
    "    for filename in filenames:\n",
    "        print(os.path.join(dirname, filename))\n",
    "\n",
    "# You can write up to 20GB to the current directory (/kaggle/working/) that gets preserved as output when you create a version using \"Save & Run All\" \n",
    "# You can also write temporary files to /kaggle/temp/, but they won't be saved outside of the current session"
   ]
  },
  {
   "cell_type": "markdown",
   "id": "db4dcc6c",
   "metadata": {
    "papermill": {
     "duration": 0.047039,
     "end_time": "2022-06-06T22:10:22.548356",
     "exception": false,
     "start_time": "2022-06-06T22:10:22.501317",
     "status": "completed"
    },
    "tags": []
   },
   "source": [
    "# TO DO: add the new embedding cache w/ full dataset"
   ]
  },
  {
   "cell_type": "code",
   "execution_count": 2,
   "id": "362e1df6",
   "metadata": {
    "execution": {
     "iopub.execute_input": "2022-06-06T22:10:22.647873Z",
     "iopub.status.busy": "2022-06-06T22:10:22.646921Z",
     "iopub.status.idle": "2022-06-06T22:10:23.047809Z",
     "shell.execute_reply": "2022-06-06T22:10:23.046631Z",
     "shell.execute_reply.started": "2022-06-06T19:58:49.501648Z"
    },
    "papermill": {
     "duration": 0.452009,
     "end_time": "2022-06-06T22:10:23.047985",
     "exception": false,
     "start_time": "2022-06-06T22:10:22.595976",
     "status": "completed"
    },
    "tags": []
   },
   "outputs": [],
   "source": [
    "df = pd.read_csv(\"/kaggle/input/codeforces-dataset/data.csv\")"
   ]
  },
  {
   "cell_type": "code",
   "execution_count": 3,
   "id": "eac035ef",
   "metadata": {
    "execution": {
     "iopub.execute_input": "2022-06-06T22:10:23.148482Z",
     "iopub.status.busy": "2022-06-06T22:10:23.147804Z",
     "iopub.status.idle": "2022-06-06T22:10:23.156193Z",
     "shell.execute_reply": "2022-06-06T22:10:23.155570Z",
     "shell.execute_reply.started": "2022-06-06T19:58:49.711614Z"
    },
    "papermill": {
     "duration": 0.060855,
     "end_time": "2022-06-06T22:10:23.156356",
     "exception": false,
     "start_time": "2022-06-06T22:10:23.095501",
     "status": "completed"
    },
    "tags": []
   },
   "outputs": [
    {
     "data": {
      "text/plain": [
       "(8343, 4)"
      ]
     },
     "execution_count": 3,
     "metadata": {},
     "output_type": "execute_result"
    }
   ],
   "source": [
    "df.shape"
   ]
  },
  {
   "cell_type": "code",
   "execution_count": null,
   "id": "8110a336",
   "metadata": {
    "papermill": {
     "duration": 0.048012,
     "end_time": "2022-06-06T22:10:23.254129",
     "exception": false,
     "start_time": "2022-06-06T22:10:23.206117",
     "status": "completed"
    },
    "tags": []
   },
   "outputs": [],
   "source": []
  },
  {
   "cell_type": "code",
   "execution_count": 4,
   "id": "921b8aa0",
   "metadata": {
    "execution": {
     "iopub.execute_input": "2022-06-06T22:10:23.354926Z",
     "iopub.status.busy": "2022-06-06T22:10:23.354100Z",
     "iopub.status.idle": "2022-06-06T22:10:23.373797Z",
     "shell.execute_reply": "2022-06-06T22:10:23.374363Z",
     "shell.execute_reply.started": "2022-06-06T19:58:49.719345Z"
    },
    "papermill": {
     "duration": 0.072316,
     "end_time": "2022-06-06T22:10:23.374575",
     "exception": false,
     "start_time": "2022-06-06T22:10:23.302259",
     "status": "completed"
    },
    "tags": []
   },
   "outputs": [
    {
     "data": {
      "text/html": [
       "<div>\n",
       "<style scoped>\n",
       "    .dataframe tbody tr th:only-of-type {\n",
       "        vertical-align: middle;\n",
       "    }\n",
       "\n",
       "    .dataframe tbody tr th {\n",
       "        vertical-align: top;\n",
       "    }\n",
       "\n",
       "    .dataframe thead th {\n",
       "        text-align: right;\n",
       "    }\n",
       "</style>\n",
       "<table border=\"1\" class=\"dataframe\">\n",
       "  <thead>\n",
       "    <tr style=\"text-align: right;\">\n",
       "      <th></th>\n",
       "      <th>contest</th>\n",
       "      <th>problem_name</th>\n",
       "      <th>problem_statement</th>\n",
       "      <th>problem_tags</th>\n",
       "    </tr>\n",
       "  </thead>\n",
       "  <tbody>\n",
       "    <tr>\n",
       "      <th>0</th>\n",
       "      <td>325</td>\n",
       "      <td>A</td>\n",
       "      <td>You are given n rectangles. The corners of rec...</td>\n",
       "      <td>implementation,*1500</td>\n",
       "    </tr>\n",
       "    <tr>\n",
       "      <th>1</th>\n",
       "      <td>325</td>\n",
       "      <td>B</td>\n",
       "      <td>Daniel is organizing a football tournament. He...</td>\n",
       "      <td>binarysearch,math,*1800</td>\n",
       "    </tr>\n",
       "    <tr>\n",
       "      <th>2</th>\n",
       "      <td>325</td>\n",
       "      <td>C</td>\n",
       "      <td>Piegirl has found a monster and a book about m...</td>\n",
       "      <td>dfsandsimilar,graphs,shortestpaths,*2600</td>\n",
       "    </tr>\n",
       "    <tr>\n",
       "      <th>3</th>\n",
       "      <td>325</td>\n",
       "      <td>D</td>\n",
       "      <td>In a far away land, there exists a planet shap...</td>\n",
       "      <td>dsu,*2900</td>\n",
       "    </tr>\n",
       "    <tr>\n",
       "      <th>4</th>\n",
       "      <td>325</td>\n",
       "      <td>E</td>\n",
       "      <td>Piegirl found the red button. You have one las...</td>\n",
       "      <td>combinatorics,dfsandsimilar,dsu,graphs,greedy,...</td>\n",
       "    </tr>\n",
       "  </tbody>\n",
       "</table>\n",
       "</div>"
      ],
      "text/plain": [
       "   contest problem_name                                  problem_statement  \\\n",
       "0      325            A  You are given n rectangles. The corners of rec...   \n",
       "1      325            B  Daniel is organizing a football tournament. He...   \n",
       "2      325            C  Piegirl has found a monster and a book about m...   \n",
       "3      325            D  In a far away land, there exists a planet shap...   \n",
       "4      325            E  Piegirl found the red button. You have one las...   \n",
       "\n",
       "                                        problem_tags  \n",
       "0                               implementation,*1500  \n",
       "1                            binarysearch,math,*1800  \n",
       "2           dfsandsimilar,graphs,shortestpaths,*2600  \n",
       "3                                          dsu,*2900  \n",
       "4  combinatorics,dfsandsimilar,dsu,graphs,greedy,...  "
      ]
     },
     "execution_count": 4,
     "metadata": {},
     "output_type": "execute_result"
    }
   ],
   "source": [
    "df.head()"
   ]
  },
  {
   "cell_type": "code",
   "execution_count": 5,
   "id": "9186d9ac",
   "metadata": {
    "execution": {
     "iopub.execute_input": "2022-06-06T22:10:23.481867Z",
     "iopub.status.busy": "2022-06-06T22:10:23.476897Z",
     "iopub.status.idle": "2022-06-06T22:10:23.487608Z",
     "shell.execute_reply": "2022-06-06T22:10:23.488316Z",
     "shell.execute_reply.started": "2022-06-06T19:58:49.740842Z"
    },
    "papermill": {
     "duration": 0.064742,
     "end_time": "2022-06-06T22:10:23.488541",
     "exception": false,
     "start_time": "2022-06-06T22:10:23.423799",
     "status": "completed"
    },
    "tags": []
   },
   "outputs": [
    {
     "name": "stdout",
     "output_type": "stream",
     "text": [
      "1549 1 1424\n"
     ]
    }
   ],
   "source": [
    "lst  = list(df[\"contest\"])\n",
    "print(max(lst), min(lst), len(set(lst)))"
   ]
  },
  {
   "cell_type": "code",
   "execution_count": 6,
   "id": "8bf1fd6d",
   "metadata": {
    "execution": {
     "iopub.execute_input": "2022-06-06T22:10:23.594064Z",
     "iopub.status.busy": "2022-06-06T22:10:23.593421Z",
     "iopub.status.idle": "2022-06-06T22:10:23.596160Z",
     "shell.execute_reply": "2022-06-06T22:10:23.595662Z",
     "shell.execute_reply.started": "2022-06-06T19:58:49.756261Z"
    },
    "papermill": {
     "duration": 0.0578,
     "end_time": "2022-06-06T22:10:23.596340",
     "exception": false,
     "start_time": "2022-06-06T22:10:23.538540",
     "status": "completed"
    },
    "scrolled": true,
    "tags": []
   },
   "outputs": [],
   "source": [
    "# !pip install sentence-transformers"
   ]
  },
  {
   "cell_type": "code",
   "execution_count": 7,
   "id": "a1a174bc",
   "metadata": {
    "execution": {
     "iopub.execute_input": "2022-06-06T22:10:23.700732Z",
     "iopub.status.busy": "2022-06-06T22:10:23.699986Z",
     "iopub.status.idle": "2022-06-06T22:10:23.702394Z",
     "shell.execute_reply": "2022-06-06T22:10:23.702986Z",
     "shell.execute_reply.started": "2022-06-06T19:58:49.766983Z"
    },
    "papermill": {
     "duration": 0.057495,
     "end_time": "2022-06-06T22:10:23.703260",
     "exception": false,
     "start_time": "2022-06-06T22:10:23.645765",
     "status": "completed"
    },
    "tags": []
   },
   "outputs": [],
   "source": [
    "#from sentence_transformers import SentenceTransformer\n",
    "#sentence_model = SentenceTransformer('all-MiniLM-L6-v2')"
   ]
  },
  {
   "cell_type": "code",
   "execution_count": 8,
   "id": "fe6a87e6",
   "metadata": {
    "execution": {
     "iopub.execute_input": "2022-06-06T22:10:23.824569Z",
     "iopub.status.busy": "2022-06-06T22:10:23.811700Z",
     "iopub.status.idle": "2022-06-06T22:10:23.828742Z",
     "shell.execute_reply": "2022-06-06T22:10:23.828171Z",
     "shell.execute_reply.started": "2022-06-06T19:58:49.778600Z"
    },
    "papermill": {
     "duration": 0.07525,
     "end_time": "2022-06-06T22:10:23.828902",
     "exception": false,
     "start_time": "2022-06-06T22:10:23.753652",
     "status": "completed"
    },
    "tags": []
   },
   "outputs": [
    {
     "name": "stdout",
     "output_type": "stream",
     "text": [
      "64 errors\n",
      "65\n"
     ]
    }
   ],
   "source": [
    "tags = set()\n",
    "nans = 0\n",
    "for text in df[\"problem_tags\"]:\n",
    "    if type(text) is not str:\n",
    "        pass\n",
    "    try:\n",
    "        tokens = text.split(\",\")\n",
    "        for token in tokens:\n",
    "            tags.add(token)\n",
    "    except Exception:\n",
    "        nans += 1\n",
    "print(f\"{nans} errors\")\n",
    "print(len(tags))"
   ]
  },
  {
   "cell_type": "code",
   "execution_count": 9,
   "id": "1f0dbe51",
   "metadata": {
    "execution": {
     "iopub.execute_input": "2022-06-06T22:10:23.936201Z",
     "iopub.status.busy": "2022-06-06T22:10:23.935468Z",
     "iopub.status.idle": "2022-06-06T22:10:23.939739Z",
     "shell.execute_reply": "2022-06-06T22:10:23.939054Z",
     "shell.execute_reply.started": "2022-06-06T19:58:49.807844Z"
    },
    "papermill": {
     "duration": 0.06017,
     "end_time": "2022-06-06T22:10:23.939904",
     "exception": false,
     "start_time": "2022-06-06T22:10:23.879734",
     "status": "completed"
    },
    "tags": []
   },
   "outputs": [
    {
     "name": "stdout",
     "output_type": "stream",
     "text": [
      "['implementation', 'divideandconquer', 'stringsuffixstructures', 'dsu', 'shortestpaths', 'strings', 'binarysearch', 'bruteforce', 'graphs', 'datastructures', 'probabilities', 'chineseremaindertheorem', 'combinatorics', 'greedy', 'hashing', 'ternarysearch', 'expressionparsing', 'matrices', 'dfsandsimilar', 'fft', 'games', 'constructivealgorithms', 'dp', 'schedules', 'twopointers', 'bitmasks', 'meet-in-the-middle', 'flows', 'sortings', 'interactive', 'graphmatchings', 'geometry', '2-sat', 'math', 'numbertheory', 'trees']\n"
     ]
    }
   ],
   "source": [
    "filtered_tags = [tag for tag in tags if \"*\" not in tag]\n",
    "print(filtered_tags)"
   ]
  },
  {
   "cell_type": "code",
   "execution_count": 10,
   "id": "a3e3237e",
   "metadata": {
    "execution": {
     "iopub.execute_input": "2022-06-06T22:10:24.050114Z",
     "iopub.status.busy": "2022-06-06T22:10:24.049320Z",
     "iopub.status.idle": "2022-06-06T22:10:35.039660Z",
     "shell.execute_reply": "2022-06-06T22:10:35.039056Z",
     "shell.execute_reply.started": "2022-06-06T19:58:49.821989Z"
    },
    "papermill": {
     "duration": 11.047291,
     "end_time": "2022-06-06T22:10:35.039853",
     "exception": false,
     "start_time": "2022-06-06T22:10:23.992562",
     "status": "completed"
    },
    "tags": []
   },
   "outputs": [
    {
     "name": "stdout",
     "output_type": "stream",
     "text": [
      "Requirement already satisfied: tqdm in /opt/conda/lib/python3.7/site-packages (4.62.3)\r\n",
      "\u001b[33mWARNING: Running pip as the 'root' user can result in broken permissions and conflicting behaviour with the system package manager. It is recommended to use a virtual environment instead: https://pip.pypa.io/warnings/venv\u001b[0m\r\n"
     ]
    }
   ],
   "source": [
    "!pip install tqdm"
   ]
  },
  {
   "cell_type": "code",
   "execution_count": 11,
   "id": "45dfc9d9",
   "metadata": {
    "execution": {
     "iopub.execute_input": "2022-06-06T22:10:35.149264Z",
     "iopub.status.busy": "2022-06-06T22:10:35.148552Z",
     "iopub.status.idle": "2022-06-06T22:10:35.428468Z",
     "shell.execute_reply": "2022-06-06T22:10:35.427796Z",
     "shell.execute_reply.started": "2022-06-06T19:58:58.858146Z"
    },
    "papermill": {
     "duration": 0.337513,
     "end_time": "2022-06-06T22:10:35.428631",
     "exception": false,
     "start_time": "2022-06-06T22:10:35.091118",
     "status": "completed"
    },
    "tags": []
   },
   "outputs": [
    {
     "name": "stderr",
     "output_type": "stream",
     "text": [
      "100%|██████████| 36/36 [00:00<00:00, 136.25it/s]\n"
     ]
    }
   ],
   "source": [
    "from tqdm import tqdm\n",
    "\n",
    "for tag in tqdm(filtered_tags):\n",
    "    df[tag] = df[\"problem_tags\"].map(lambda tags: 1 if type(tags) == str  and tag in tags else 0)"
   ]
  },
  {
   "cell_type": "code",
   "execution_count": 12,
   "id": "3a0421b4",
   "metadata": {
    "execution": {
     "iopub.execute_input": "2022-06-06T22:10:39.937722Z",
     "iopub.status.busy": "2022-06-06T22:10:39.936366Z",
     "iopub.status.idle": "2022-06-06T22:10:39.952254Z",
     "shell.execute_reply": "2022-06-06T22:10:39.952761Z",
     "shell.execute_reply.started": "2022-06-06T19:58:59.157427Z"
    },
    "papermill": {
     "duration": 4.471008,
     "end_time": "2022-06-06T22:10:39.952956",
     "exception": false,
     "start_time": "2022-06-06T22:10:35.481948",
     "status": "completed"
    },
    "tags": []
   },
   "outputs": [
    {
     "name": "stderr",
     "output_type": "stream",
     "text": [
      "/opt/conda/lib/python3.7/site-packages/ipykernel_launcher.py:1: FutureWarning: Dropping of nuisance columns in DataFrame reductions (with 'numeric_only=None') is deprecated; in a future version this will raise TypeError.  Select only valid columns before calling the reduction.\n",
      "  \"\"\"Entry point for launching an IPython kernel.\n"
     ]
    },
    {
     "data": {
      "text/plain": [
       "contest                    786.816493\n",
       "implementation               0.266211\n",
       "divideandconquer             0.022654\n",
       "stringsuffixstructures       0.008990\n",
       "dsu                          0.029606\n",
       "shortestpaths                0.026369\n",
       "strings                      0.071677\n",
       "binarysearch                 0.094211\n",
       "bruteforce                   0.140357\n",
       "graphs                       0.107755\n",
       "datastructures               0.154621\n",
       "probabilities                0.023493\n",
       "chineseremaindertheorem      0.001558\n",
       "combinatorics                0.055256\n",
       "greedy                       0.233729\n",
       "hashing                      0.019178\n",
       "ternarysearch                0.006233\n",
       "expressionparsing            0.004195\n",
       "matrices                     0.012466\n",
       "dfsandsimilar                0.086060\n",
       "fft                          0.007312\n",
       "games                        0.019298\n",
       "constructivealgorithms       0.141556\n",
       "dp                           0.200408\n",
       "schedules                    0.000839\n",
       "twopointers                  0.043270\n",
       "bitmasks                     0.041831\n",
       "meet-in-the-middle           0.004315\n",
       "flows                        0.013065\n",
       "sortings                     0.090974\n",
       "interactive                  0.017380\n",
       "graphmatchings               0.007791\n",
       "geometry                     0.041112\n",
       "2-sat                        0.002997\n",
       "math                         0.242958\n",
       "numbertheory                 0.066403\n",
       "trees                        0.073954\n",
       "dtype: float64"
      ]
     },
     "execution_count": 12,
     "metadata": {},
     "output_type": "execute_result"
    }
   ],
   "source": [
    "df.mean()"
   ]
  },
  {
   "cell_type": "code",
   "execution_count": 13,
   "id": "8275b19f",
   "metadata": {
    "execution": {
     "iopub.execute_input": "2022-06-06T22:10:40.068990Z",
     "iopub.status.busy": "2022-06-06T22:10:40.068365Z",
     "iopub.status.idle": "2022-06-06T22:10:40.071402Z",
     "shell.execute_reply": "2022-06-06T22:10:40.070780Z",
     "shell.execute_reply.started": "2022-06-06T19:58:59.879668Z"
    },
    "papermill": {
     "duration": 0.062424,
     "end_time": "2022-06-06T22:10:40.071553",
     "exception": false,
     "start_time": "2022-06-06T22:10:40.009129",
     "status": "completed"
    },
    "tags": []
   },
   "outputs": [
    {
     "name": "stdout",
     "output_type": "stream",
     "text": [
      "['contest', 'problem_name', 'problem_statement', 'problem_tags', 'implementation', 'divideandconquer', 'stringsuffixstructures', 'dsu', 'shortestpaths', 'strings', 'binarysearch', 'bruteforce', 'graphs', 'datastructures', 'probabilities', 'chineseremaindertheorem', 'combinatorics', 'greedy', 'hashing', 'ternarysearch', 'expressionparsing', 'matrices', 'dfsandsimilar', 'fft', 'games', 'constructivealgorithms', 'dp', 'schedules', 'twopointers', 'bitmasks', 'meet-in-the-middle', 'flows', 'sortings', 'interactive', 'graphmatchings', 'geometry', '2-sat', 'math', 'numbertheory', 'trees']\n"
     ]
    }
   ],
   "source": [
    "print(list(df.columns))"
   ]
  },
  {
   "cell_type": "code",
   "execution_count": 14,
   "id": "7e2c03ae",
   "metadata": {
    "execution": {
     "iopub.execute_input": "2022-06-06T22:10:40.186725Z",
     "iopub.status.busy": "2022-06-06T22:10:40.186019Z",
     "iopub.status.idle": "2022-06-06T22:10:40.189501Z",
     "shell.execute_reply": "2022-06-06T22:10:40.188900Z",
     "shell.execute_reply.started": "2022-06-06T19:58:59.885199Z"
    },
    "papermill": {
     "duration": 0.064686,
     "end_time": "2022-06-06T22:10:40.189635",
     "exception": false,
     "start_time": "2022-06-06T22:10:40.124949",
     "status": "completed"
    },
    "tags": []
   },
   "outputs": [
    {
     "name": "stdout",
     "output_type": "stream",
     "text": [
      "1214\n"
     ]
    }
   ],
   "source": [
    "contests = list(set(df['contest']))\n",
    "contests.sort()\n",
    "print(contests[int(0.8*len(contests))])"
   ]
  },
  {
   "cell_type": "code",
   "execution_count": 15,
   "id": "57a1b060",
   "metadata": {
    "execution": {
     "iopub.execute_input": "2022-06-06T22:10:40.302016Z",
     "iopub.status.busy": "2022-06-06T22:10:40.301394Z",
     "iopub.status.idle": "2022-06-06T22:10:40.303922Z",
     "shell.execute_reply": "2022-06-06T22:10:40.303345Z",
     "shell.execute_reply.started": "2022-06-06T19:58:59.902594Z"
    },
    "papermill": {
     "duration": 0.06076,
     "end_time": "2022-06-06T22:10:40.304054",
     "exception": false,
     "start_time": "2022-06-06T22:10:40.243294",
     "status": "completed"
    },
    "scrolled": true,
    "tags": []
   },
   "outputs": [],
   "source": [
    "# !pip install sentence_transformers"
   ]
  },
  {
   "cell_type": "code",
   "execution_count": 16,
   "id": "dd4de4f4",
   "metadata": {
    "execution": {
     "iopub.execute_input": "2022-06-06T22:10:40.423758Z",
     "iopub.status.busy": "2022-06-06T22:10:40.422571Z",
     "iopub.status.idle": "2022-06-06T22:10:40.441097Z",
     "shell.execute_reply": "2022-06-06T22:10:40.441749Z",
     "shell.execute_reply.started": "2022-06-06T19:58:59.913103Z"
    },
    "papermill": {
     "duration": 0.084504,
     "end_time": "2022-06-06T22:10:40.441927",
     "exception": false,
     "start_time": "2022-06-06T22:10:40.357423",
     "status": "completed"
    },
    "tags": []
   },
   "outputs": [
    {
     "data": {
      "text/html": [
       "<div>\n",
       "<style scoped>\n",
       "    .dataframe tbody tr th:only-of-type {\n",
       "        vertical-align: middle;\n",
       "    }\n",
       "\n",
       "    .dataframe tbody tr th {\n",
       "        vertical-align: top;\n",
       "    }\n",
       "\n",
       "    .dataframe thead th {\n",
       "        text-align: right;\n",
       "    }\n",
       "</style>\n",
       "<table border=\"1\" class=\"dataframe\">\n",
       "  <thead>\n",
       "    <tr style=\"text-align: right;\">\n",
       "      <th></th>\n",
       "      <th>contest</th>\n",
       "      <th>problem_name</th>\n",
       "      <th>problem_statement</th>\n",
       "      <th>problem_tags</th>\n",
       "      <th>implementation</th>\n",
       "      <th>divideandconquer</th>\n",
       "      <th>stringsuffixstructures</th>\n",
       "      <th>dsu</th>\n",
       "      <th>shortestpaths</th>\n",
       "      <th>strings</th>\n",
       "      <th>...</th>\n",
       "      <th>meet-in-the-middle</th>\n",
       "      <th>flows</th>\n",
       "      <th>sortings</th>\n",
       "      <th>interactive</th>\n",
       "      <th>graphmatchings</th>\n",
       "      <th>geometry</th>\n",
       "      <th>2-sat</th>\n",
       "      <th>math</th>\n",
       "      <th>numbertheory</th>\n",
       "      <th>trees</th>\n",
       "    </tr>\n",
       "  </thead>\n",
       "  <tbody>\n",
       "    <tr>\n",
       "      <th>0</th>\n",
       "      <td>325</td>\n",
       "      <td>A</td>\n",
       "      <td>You are given n rectangles. The corners of rec...</td>\n",
       "      <td>implementation,*1500</td>\n",
       "      <td>1</td>\n",
       "      <td>0</td>\n",
       "      <td>0</td>\n",
       "      <td>0</td>\n",
       "      <td>0</td>\n",
       "      <td>0</td>\n",
       "      <td>...</td>\n",
       "      <td>0</td>\n",
       "      <td>0</td>\n",
       "      <td>0</td>\n",
       "      <td>0</td>\n",
       "      <td>0</td>\n",
       "      <td>0</td>\n",
       "      <td>0</td>\n",
       "      <td>0</td>\n",
       "      <td>0</td>\n",
       "      <td>0</td>\n",
       "    </tr>\n",
       "    <tr>\n",
       "      <th>1</th>\n",
       "      <td>325</td>\n",
       "      <td>B</td>\n",
       "      <td>Daniel is organizing a football tournament. He...</td>\n",
       "      <td>binarysearch,math,*1800</td>\n",
       "      <td>0</td>\n",
       "      <td>0</td>\n",
       "      <td>0</td>\n",
       "      <td>0</td>\n",
       "      <td>0</td>\n",
       "      <td>0</td>\n",
       "      <td>...</td>\n",
       "      <td>0</td>\n",
       "      <td>0</td>\n",
       "      <td>0</td>\n",
       "      <td>0</td>\n",
       "      <td>0</td>\n",
       "      <td>0</td>\n",
       "      <td>0</td>\n",
       "      <td>1</td>\n",
       "      <td>0</td>\n",
       "      <td>0</td>\n",
       "    </tr>\n",
       "    <tr>\n",
       "      <th>2</th>\n",
       "      <td>325</td>\n",
       "      <td>C</td>\n",
       "      <td>Piegirl has found a monster and a book about m...</td>\n",
       "      <td>dfsandsimilar,graphs,shortestpaths,*2600</td>\n",
       "      <td>0</td>\n",
       "      <td>0</td>\n",
       "      <td>0</td>\n",
       "      <td>0</td>\n",
       "      <td>1</td>\n",
       "      <td>0</td>\n",
       "      <td>...</td>\n",
       "      <td>0</td>\n",
       "      <td>0</td>\n",
       "      <td>0</td>\n",
       "      <td>0</td>\n",
       "      <td>0</td>\n",
       "      <td>0</td>\n",
       "      <td>0</td>\n",
       "      <td>0</td>\n",
       "      <td>0</td>\n",
       "      <td>0</td>\n",
       "    </tr>\n",
       "    <tr>\n",
       "      <th>3</th>\n",
       "      <td>325</td>\n",
       "      <td>D</td>\n",
       "      <td>In a far away land, there exists a planet shap...</td>\n",
       "      <td>dsu,*2900</td>\n",
       "      <td>0</td>\n",
       "      <td>0</td>\n",
       "      <td>0</td>\n",
       "      <td>1</td>\n",
       "      <td>0</td>\n",
       "      <td>0</td>\n",
       "      <td>...</td>\n",
       "      <td>0</td>\n",
       "      <td>0</td>\n",
       "      <td>0</td>\n",
       "      <td>0</td>\n",
       "      <td>0</td>\n",
       "      <td>0</td>\n",
       "      <td>0</td>\n",
       "      <td>0</td>\n",
       "      <td>0</td>\n",
       "      <td>0</td>\n",
       "    </tr>\n",
       "    <tr>\n",
       "      <th>4</th>\n",
       "      <td>325</td>\n",
       "      <td>E</td>\n",
       "      <td>Piegirl found the red button. You have one las...</td>\n",
       "      <td>combinatorics,dfsandsimilar,dsu,graphs,greedy,...</td>\n",
       "      <td>0</td>\n",
       "      <td>0</td>\n",
       "      <td>0</td>\n",
       "      <td>1</td>\n",
       "      <td>0</td>\n",
       "      <td>0</td>\n",
       "      <td>...</td>\n",
       "      <td>0</td>\n",
       "      <td>0</td>\n",
       "      <td>0</td>\n",
       "      <td>0</td>\n",
       "      <td>0</td>\n",
       "      <td>0</td>\n",
       "      <td>0</td>\n",
       "      <td>0</td>\n",
       "      <td>0</td>\n",
       "      <td>0</td>\n",
       "    </tr>\n",
       "  </tbody>\n",
       "</table>\n",
       "<p>5 rows × 40 columns</p>\n",
       "</div>"
      ],
      "text/plain": [
       "   contest problem_name                                  problem_statement  \\\n",
       "0      325            A  You are given n rectangles. The corners of rec...   \n",
       "1      325            B  Daniel is organizing a football tournament. He...   \n",
       "2      325            C  Piegirl has found a monster and a book about m...   \n",
       "3      325            D  In a far away land, there exists a planet shap...   \n",
       "4      325            E  Piegirl found the red button. You have one las...   \n",
       "\n",
       "                                        problem_tags  implementation  \\\n",
       "0                               implementation,*1500               1   \n",
       "1                            binarysearch,math,*1800               0   \n",
       "2           dfsandsimilar,graphs,shortestpaths,*2600               0   \n",
       "3                                          dsu,*2900               0   \n",
       "4  combinatorics,dfsandsimilar,dsu,graphs,greedy,...               0   \n",
       "\n",
       "   divideandconquer  stringsuffixstructures  dsu  shortestpaths  strings  ...  \\\n",
       "0                 0                       0    0              0        0  ...   \n",
       "1                 0                       0    0              0        0  ...   \n",
       "2                 0                       0    0              1        0  ...   \n",
       "3                 0                       0    1              0        0  ...   \n",
       "4                 0                       0    1              0        0  ...   \n",
       "\n",
       "   meet-in-the-middle  flows  sortings  interactive  graphmatchings  geometry  \\\n",
       "0                   0      0         0            0               0         0   \n",
       "1                   0      0         0            0               0         0   \n",
       "2                   0      0         0            0               0         0   \n",
       "3                   0      0         0            0               0         0   \n",
       "4                   0      0         0            0               0         0   \n",
       "\n",
       "   2-sat  math  numbertheory  trees  \n",
       "0      0     0             0      0  \n",
       "1      0     1             0      0  \n",
       "2      0     0             0      0  \n",
       "3      0     0             0      0  \n",
       "4      0     0             0      0  \n",
       "\n",
       "[5 rows x 40 columns]"
      ]
     },
     "execution_count": 16,
     "metadata": {},
     "output_type": "execute_result"
    }
   ],
   "source": [
    "df.head()"
   ]
  },
  {
   "cell_type": "code",
   "execution_count": 17,
   "id": "2d079dc8",
   "metadata": {
    "execution": {
     "iopub.execute_input": "2022-06-06T22:10:40.557045Z",
     "iopub.status.busy": "2022-06-06T22:10:40.556417Z",
     "iopub.status.idle": "2022-06-06T22:10:40.584008Z",
     "shell.execute_reply": "2022-06-06T22:10:40.583491Z",
     "shell.execute_reply.started": "2022-06-06T19:58:59.943698Z"
    },
    "papermill": {
     "duration": 0.086805,
     "end_time": "2022-06-06T22:10:40.584153",
     "exception": false,
     "start_time": "2022-06-06T22:10:40.497348",
     "status": "completed"
    },
    "tags": []
   },
   "outputs": [
    {
     "data": {
      "text/html": [
       "<div>\n",
       "<style scoped>\n",
       "    .dataframe tbody tr th:only-of-type {\n",
       "        vertical-align: middle;\n",
       "    }\n",
       "\n",
       "    .dataframe tbody tr th {\n",
       "        vertical-align: top;\n",
       "    }\n",
       "\n",
       "    .dataframe thead th {\n",
       "        text-align: right;\n",
       "    }\n",
       "</style>\n",
       "<table border=\"1\" class=\"dataframe\">\n",
       "  <thead>\n",
       "    <tr style=\"text-align: right;\">\n",
       "      <th></th>\n",
       "      <th>contest</th>\n",
       "      <th>problem_name</th>\n",
       "      <th>problem_statement</th>\n",
       "      <th>problem_tags</th>\n",
       "      <th>implementation</th>\n",
       "      <th>divideandconquer</th>\n",
       "      <th>stringsuffixstructures</th>\n",
       "      <th>dsu</th>\n",
       "      <th>shortestpaths</th>\n",
       "      <th>strings</th>\n",
       "      <th>...</th>\n",
       "      <th>meet-in-the-middle</th>\n",
       "      <th>flows</th>\n",
       "      <th>sortings</th>\n",
       "      <th>interactive</th>\n",
       "      <th>graphmatchings</th>\n",
       "      <th>geometry</th>\n",
       "      <th>2-sat</th>\n",
       "      <th>math</th>\n",
       "      <th>numbertheory</th>\n",
       "      <th>trees</th>\n",
       "    </tr>\n",
       "  </thead>\n",
       "  <tbody>\n",
       "    <tr>\n",
       "      <th>455</th>\n",
       "      <td>1348</td>\n",
       "      <td>A</td>\n",
       "      <td>Phoenix has $$$n$$$ coins with weights $$$2^1,...</td>\n",
       "      <td>greedy,math,*800</td>\n",
       "      <td>0</td>\n",
       "      <td>0</td>\n",
       "      <td>0</td>\n",
       "      <td>0</td>\n",
       "      <td>0</td>\n",
       "      <td>0</td>\n",
       "      <td>...</td>\n",
       "      <td>0</td>\n",
       "      <td>0</td>\n",
       "      <td>0</td>\n",
       "      <td>0</td>\n",
       "      <td>0</td>\n",
       "      <td>0</td>\n",
       "      <td>0</td>\n",
       "      <td>1</td>\n",
       "      <td>0</td>\n",
       "      <td>0</td>\n",
       "    </tr>\n",
       "    <tr>\n",
       "      <th>456</th>\n",
       "      <td>1348</td>\n",
       "      <td>B</td>\n",
       "      <td>Phoenix loves beautiful arrays. An array is be...</td>\n",
       "      <td>constructivealgorithms,datastructures,greedy,s...</td>\n",
       "      <td>0</td>\n",
       "      <td>0</td>\n",
       "      <td>0</td>\n",
       "      <td>0</td>\n",
       "      <td>0</td>\n",
       "      <td>0</td>\n",
       "      <td>...</td>\n",
       "      <td>0</td>\n",
       "      <td>0</td>\n",
       "      <td>1</td>\n",
       "      <td>0</td>\n",
       "      <td>0</td>\n",
       "      <td>0</td>\n",
       "      <td>0</td>\n",
       "      <td>0</td>\n",
       "      <td>0</td>\n",
       "      <td>0</td>\n",
       "    </tr>\n",
       "    <tr>\n",
       "      <th>457</th>\n",
       "      <td>1348</td>\n",
       "      <td>C</td>\n",
       "      <td>Phoenix has a string $$$s$$$ consisting of low...</td>\n",
       "      <td>constructivealgorithms,greedy,sortings,strings...</td>\n",
       "      <td>0</td>\n",
       "      <td>0</td>\n",
       "      <td>0</td>\n",
       "      <td>0</td>\n",
       "      <td>0</td>\n",
       "      <td>1</td>\n",
       "      <td>...</td>\n",
       "      <td>0</td>\n",
       "      <td>0</td>\n",
       "      <td>1</td>\n",
       "      <td>0</td>\n",
       "      <td>0</td>\n",
       "      <td>0</td>\n",
       "      <td>0</td>\n",
       "      <td>0</td>\n",
       "      <td>0</td>\n",
       "      <td>0</td>\n",
       "    </tr>\n",
       "    <tr>\n",
       "      <th>458</th>\n",
       "      <td>1348</td>\n",
       "      <td>D</td>\n",
       "      <td>Phoenix has decided to become a scientist! He ...</td>\n",
       "      <td>binarysearch,constructivealgorithms,greedy,imp...</td>\n",
       "      <td>1</td>\n",
       "      <td>0</td>\n",
       "      <td>0</td>\n",
       "      <td>0</td>\n",
       "      <td>0</td>\n",
       "      <td>0</td>\n",
       "      <td>...</td>\n",
       "      <td>0</td>\n",
       "      <td>0</td>\n",
       "      <td>0</td>\n",
       "      <td>0</td>\n",
       "      <td>0</td>\n",
       "      <td>0</td>\n",
       "      <td>0</td>\n",
       "      <td>1</td>\n",
       "      <td>0</td>\n",
       "      <td>0</td>\n",
       "    </tr>\n",
       "    <tr>\n",
       "      <th>459</th>\n",
       "      <td>1348</td>\n",
       "      <td>E</td>\n",
       "      <td>Phoenix is picking berries in his backyard. Th...</td>\n",
       "      <td>bruteforce,dp,greedy,math,*2400</td>\n",
       "      <td>0</td>\n",
       "      <td>0</td>\n",
       "      <td>0</td>\n",
       "      <td>0</td>\n",
       "      <td>0</td>\n",
       "      <td>0</td>\n",
       "      <td>...</td>\n",
       "      <td>0</td>\n",
       "      <td>0</td>\n",
       "      <td>0</td>\n",
       "      <td>0</td>\n",
       "      <td>0</td>\n",
       "      <td>0</td>\n",
       "      <td>0</td>\n",
       "      <td>1</td>\n",
       "      <td>0</td>\n",
       "      <td>0</td>\n",
       "    </tr>\n",
       "  </tbody>\n",
       "</table>\n",
       "<p>5 rows × 40 columns</p>\n",
       "</div>"
      ],
      "text/plain": [
       "     contest problem_name                                  problem_statement  \\\n",
       "455     1348            A  Phoenix has $$$n$$$ coins with weights $$$2^1,...   \n",
       "456     1348            B  Phoenix loves beautiful arrays. An array is be...   \n",
       "457     1348            C  Phoenix has a string $$$s$$$ consisting of low...   \n",
       "458     1348            D  Phoenix has decided to become a scientist! He ...   \n",
       "459     1348            E  Phoenix is picking berries in his backyard. Th...   \n",
       "\n",
       "                                          problem_tags  implementation  \\\n",
       "455                                   greedy,math,*800               0   \n",
       "456  constructivealgorithms,datastructures,greedy,s...               0   \n",
       "457  constructivealgorithms,greedy,sortings,strings...               0   \n",
       "458  binarysearch,constructivealgorithms,greedy,imp...               1   \n",
       "459                    bruteforce,dp,greedy,math,*2400               0   \n",
       "\n",
       "     divideandconquer  stringsuffixstructures  dsu  shortestpaths  strings  \\\n",
       "455                 0                       0    0              0        0   \n",
       "456                 0                       0    0              0        0   \n",
       "457                 0                       0    0              0        1   \n",
       "458                 0                       0    0              0        0   \n",
       "459                 0                       0    0              0        0   \n",
       "\n",
       "     ...  meet-in-the-middle  flows  sortings  interactive  graphmatchings  \\\n",
       "455  ...                   0      0         0            0               0   \n",
       "456  ...                   0      0         1            0               0   \n",
       "457  ...                   0      0         1            0               0   \n",
       "458  ...                   0      0         0            0               0   \n",
       "459  ...                   0      0         0            0               0   \n",
       "\n",
       "     geometry  2-sat  math  numbertheory  trees  \n",
       "455         0      0     1             0      0  \n",
       "456         0      0     0             0      0  \n",
       "457         0      0     0             0      0  \n",
       "458         0      0     1             0      0  \n",
       "459         0      0     1             0      0  \n",
       "\n",
       "[5 rows x 40 columns]"
      ]
     },
     "execution_count": 17,
     "metadata": {},
     "output_type": "execute_result"
    }
   ],
   "source": [
    "df_train = df[df['contest'] > 1214]\n",
    "df_train.head()"
   ]
  },
  {
   "cell_type": "code",
   "execution_count": 18,
   "id": "3de23d6c",
   "metadata": {
    "execution": {
     "iopub.execute_input": "2022-06-06T22:10:40.699595Z",
     "iopub.status.busy": "2022-06-06T22:10:40.698938Z",
     "iopub.status.idle": "2022-06-06T22:10:40.702157Z",
     "shell.execute_reply": "2022-06-06T22:10:40.701589Z",
     "shell.execute_reply.started": "2022-06-06T19:58:59.974853Z"
    },
    "papermill": {
     "duration": 0.062906,
     "end_time": "2022-06-06T22:10:40.702316",
     "exception": false,
     "start_time": "2022-06-06T22:10:40.639410",
     "status": "completed"
    },
    "tags": []
   },
   "outputs": [],
   "source": [
    "# df = df.head(20)"
   ]
  },
  {
   "cell_type": "code",
   "execution_count": 19,
   "id": "cb34ea03",
   "metadata": {
    "execution": {
     "iopub.execute_input": "2022-06-06T22:10:40.819441Z",
     "iopub.status.busy": "2022-06-06T22:10:40.818384Z",
     "iopub.status.idle": "2022-06-06T22:10:41.064902Z",
     "shell.execute_reply": "2022-06-06T22:10:41.065475Z",
     "shell.execute_reply.started": "2022-06-06T19:58:59.983134Z"
    },
    "papermill": {
     "duration": 0.307506,
     "end_time": "2022-06-06T22:10:41.065695",
     "exception": false,
     "start_time": "2022-06-06T22:10:40.758189",
     "status": "completed"
    },
    "tags": []
   },
   "outputs": [],
   "source": [
    "import pickle\n",
    "\n",
    "from tqdm import tqdm\n",
    "recompute = False\n",
    "if recompute:\n",
    "    embeddings_cache = {}\n",
    "    all_rows = df.to_dict(orient='index').values()\n",
    "    # for row in tqdm(all_rows):\n",
    "    #     embeddings_cache[(row['contest'], row['problem_name'])] = sentence_model.encode(str(row['problem_statement']), show_progress_bar=False)\n",
    "else:\n",
    "    embeddings_cache = pickle.load(open(\"/kaggle/input/embeddingsforcodeforces/embedding_cache_new.p\", \"rb\"))"
   ]
  },
  {
   "cell_type": "code",
   "execution_count": 20,
   "id": "250ae1e5",
   "metadata": {
    "execution": {
     "iopub.execute_input": "2022-06-06T22:10:41.183623Z",
     "iopub.status.busy": "2022-06-06T22:10:41.180748Z",
     "iopub.status.idle": "2022-06-06T22:10:41.186652Z",
     "shell.execute_reply": "2022-06-06T22:10:41.187115Z",
     "shell.execute_reply.started": "2022-06-06T19:59:00.069112Z"
    },
    "papermill": {
     "duration": 0.065463,
     "end_time": "2022-06-06T22:10:41.187340",
     "exception": false,
     "start_time": "2022-06-06T22:10:41.121877",
     "status": "completed"
    },
    "tags": []
   },
   "outputs": [
    {
     "data": {
      "text/plain": [
       "(8343, 40)"
      ]
     },
     "execution_count": 20,
     "metadata": {},
     "output_type": "execute_result"
    }
   ],
   "source": [
    "df.shape"
   ]
  },
  {
   "cell_type": "code",
   "execution_count": 21,
   "id": "1bfe9ed3",
   "metadata": {
    "execution": {
     "iopub.execute_input": "2022-06-06T22:10:41.308332Z",
     "iopub.status.busy": "2022-06-06T22:10:41.307617Z",
     "iopub.status.idle": "2022-06-06T22:10:41.310525Z",
     "shell.execute_reply": "2022-06-06T22:10:41.311256Z",
     "shell.execute_reply.started": "2022-06-06T19:59:00.079262Z"
    },
    "papermill": {
     "duration": 0.067046,
     "end_time": "2022-06-06T22:10:41.311509",
     "exception": false,
     "start_time": "2022-06-06T22:10:41.244463",
     "status": "completed"
    },
    "tags": []
   },
   "outputs": [
    {
     "name": "stdout",
     "output_type": "stream",
     "text": [
      "8343\n",
      "[(325, 'A'), (325, 'B'), (325, 'C'), (325, 'D'), (325, 'E'), (1, 'A'), (1, 'B'), (1, 'C'), (10, 'A'), (10, 'B')]\n"
     ]
    }
   ],
   "source": [
    "print(len(embeddings_cache))\n",
    "print(list(embeddings_cache.keys())[:10])"
   ]
  },
  {
   "cell_type": "code",
   "execution_count": 22,
   "id": "7629733e",
   "metadata": {
    "execution": {
     "iopub.execute_input": "2022-06-06T22:10:41.431868Z",
     "iopub.status.busy": "2022-06-06T22:10:41.431210Z",
     "iopub.status.idle": "2022-06-06T22:10:41.436299Z",
     "shell.execute_reply": "2022-06-06T22:10:41.437117Z",
     "shell.execute_reply.started": "2022-06-06T19:59:00.093659Z"
    },
    "papermill": {
     "duration": 0.067833,
     "end_time": "2022-06-06T22:10:41.437399",
     "exception": false,
     "start_time": "2022-06-06T22:10:41.369566",
     "status": "completed"
    },
    "tags": []
   },
   "outputs": [
    {
     "name": "stdout",
     "output_type": "stream",
     "text": [
      "(384,)\n"
     ]
    }
   ],
   "source": [
    "print(list(embeddings_cache.values())[0].shape)"
   ]
  },
  {
   "cell_type": "code",
   "execution_count": 23,
   "id": "128f7a6a",
   "metadata": {
    "execution": {
     "iopub.execute_input": "2022-06-06T22:10:41.558686Z",
     "iopub.status.busy": "2022-06-06T22:10:41.558032Z",
     "iopub.status.idle": "2022-06-06T22:10:41.562285Z",
     "shell.execute_reply": "2022-06-06T22:10:41.562764Z",
     "shell.execute_reply.started": "2022-06-06T19:59:00.105128Z"
    },
    "papermill": {
     "duration": 0.066206,
     "end_time": "2022-06-06T22:10:41.562948",
     "exception": false,
     "start_time": "2022-06-06T22:10:41.496742",
     "status": "completed"
    },
    "tags": []
   },
   "outputs": [],
   "source": [
    "problem_ids = list(embeddings_cache.keys())"
   ]
  },
  {
   "cell_type": "code",
   "execution_count": 24,
   "id": "c0a09d83",
   "metadata": {
    "execution": {
     "iopub.execute_input": "2022-06-06T22:10:41.682101Z",
     "iopub.status.busy": "2022-06-06T22:10:41.681457Z",
     "iopub.status.idle": "2022-06-06T22:10:43.957016Z",
     "shell.execute_reply": "2022-06-06T22:10:43.956426Z",
     "shell.execute_reply.started": "2022-06-06T19:59:00.117441Z"
    },
    "papermill": {
     "duration": 2.336672,
     "end_time": "2022-06-06T22:10:43.957199",
     "exception": false,
     "start_time": "2022-06-06T22:10:41.620527",
     "status": "completed"
    },
    "tags": []
   },
   "outputs": [],
   "source": [
    "id_to_labels = {}\n",
    "for idx, row in df.iterrows():\n",
    "    pid = (row[\"contest\"], row[\"problem_name\"])\n",
    "    id_to_labels[pid] = {}\n",
    "    for label in filtered_tags:\n",
    "        id_to_labels[pid][label] = row[label]"
   ]
  },
  {
   "cell_type": "code",
   "execution_count": 25,
   "id": "15c7d9b3",
   "metadata": {
    "execution": {
     "iopub.execute_input": "2022-06-06T22:10:44.080942Z",
     "iopub.status.busy": "2022-06-06T22:10:44.080270Z",
     "iopub.status.idle": "2022-06-06T22:10:44.081826Z",
     "shell.execute_reply": "2022-06-06T22:10:44.082445Z",
     "shell.execute_reply.started": "2022-06-06T19:59:02.235655Z"
    },
    "papermill": {
     "duration": 0.066625,
     "end_time": "2022-06-06T22:10:44.082638",
     "exception": false,
     "start_time": "2022-06-06T22:10:44.016013",
     "status": "completed"
    },
    "tags": []
   },
   "outputs": [],
   "source": [
    "TARGET_LABEL = 'trees'"
   ]
  },
  {
   "cell_type": "code",
   "execution_count": 26,
   "id": "9df952e9",
   "metadata": {
    "execution": {
     "iopub.execute_input": "2022-06-06T22:10:44.202520Z",
     "iopub.status.busy": "2022-06-06T22:10:44.201632Z",
     "iopub.status.idle": "2022-06-06T22:10:44.206616Z",
     "shell.execute_reply": "2022-06-06T22:10:44.207162Z",
     "shell.execute_reply.started": "2022-06-06T19:59:02.243079Z"
    },
    "papermill": {
     "duration": 0.065743,
     "end_time": "2022-06-06T22:10:44.207370",
     "exception": false,
     "start_time": "2022-06-06T22:10:44.141627",
     "status": "completed"
    },
    "tags": []
   },
   "outputs": [
    {
     "data": {
      "text/plain": [
       "(1835, 40)"
      ]
     },
     "execution_count": 26,
     "metadata": {},
     "output_type": "execute_result"
    }
   ],
   "source": [
    "df_train.shape"
   ]
  },
  {
   "cell_type": "code",
   "execution_count": 27,
   "id": "78b98ae0",
   "metadata": {
    "execution": {
     "iopub.execute_input": "2022-06-06T22:10:44.328318Z",
     "iopub.status.busy": "2022-06-06T22:10:44.327574Z",
     "iopub.status.idle": "2022-06-06T22:10:45.631912Z",
     "shell.execute_reply": "2022-06-06T22:10:45.631052Z",
     "shell.execute_reply.started": "2022-06-06T19:59:02.256330Z"
    },
    "papermill": {
     "duration": 1.36617,
     "end_time": "2022-06-06T22:10:45.632092",
     "exception": false,
     "start_time": "2022-06-06T22:10:44.265922",
     "status": "completed"
    },
    "tags": []
   },
   "outputs": [],
   "source": [
    "from torch import nn\n",
    "\n",
    "class SimpleNetwork(nn.Module):\n",
    "    def __init__(self, input_size, hidden_layer_size, num_outputs):\n",
    "        super(SimpleNetwork, self).__init__()\n",
    "        self.relu = nn.ReLU()\n",
    "        self.hidden = nn.Linear(in_features=input_size, out_features=hidden_layer_size)\n",
    "        self.hidden2 = nn.Linear(in_features=hidden_layer_size, out_features=hidden_layer_size)\n",
    "        self.hidden3 = nn.Linear(in_features=hidden_layer_size, out_features=hidden_layer_size)\n",
    "        self.output = nn.Linear(in_features=hidden_layer_size, out_features=num_outputs)\n",
    "    def forward(self, x):\n",
    "        x = self.hidden(x)\n",
    "        x = self.relu(x)\n",
    "        x = self.hidden2(x)\n",
    "        x = self.relu(x)\n",
    "        x = self.hidden3(x)\n",
    "        x = self.relu(x)\n",
    "        x = self.output(x)\n",
    "        return x"
   ]
  },
  {
   "cell_type": "code",
   "execution_count": 28,
   "id": "b4301e42",
   "metadata": {
    "execution": {
     "iopub.execute_input": "2022-06-06T22:10:45.754244Z",
     "iopub.status.busy": "2022-06-06T22:10:45.753599Z",
     "iopub.status.idle": "2022-06-06T22:10:45.756678Z",
     "shell.execute_reply": "2022-06-06T22:10:45.756162Z",
     "shell.execute_reply.started": "2022-06-06T19:59:02.269042Z"
    },
    "papermill": {
     "duration": 0.065505,
     "end_time": "2022-06-06T22:10:45.756831",
     "exception": false,
     "start_time": "2022-06-06T22:10:45.691326",
     "status": "completed"
    },
    "tags": []
   },
   "outputs": [],
   "source": [
    "SPLIT = 1214\n",
    "SPLIT_VAL = 1367"
   ]
  },
  {
   "cell_type": "code",
   "execution_count": 29,
   "id": "33edc02b",
   "metadata": {
    "execution": {
     "iopub.execute_input": "2022-06-06T22:10:45.887283Z",
     "iopub.status.busy": "2022-06-06T22:10:45.886560Z",
     "iopub.status.idle": "2022-06-06T22:10:45.889892Z",
     "shell.execute_reply": "2022-06-06T22:10:45.889335Z",
     "shell.execute_reply.started": "2022-06-06T22:04:52.976530Z"
    },
    "papermill": {
     "duration": 0.076258,
     "end_time": "2022-06-06T22:10:45.890034",
     "exception": false,
     "start_time": "2022-06-06T22:10:45.813776",
     "status": "completed"
    },
    "tags": []
   },
   "outputs": [],
   "source": [
    "import torch\n",
    "from torch.utils.data import Dataset, DataLoader\n",
    "from torch.autograd import Variable\n",
    "\n",
    "class StatementDataset(Dataset):\n",
    "    def __init__(self, embeddings, labels):\n",
    "        self.embeddings = embeddings\n",
    "        self.labels = labels\n",
    "        \n",
    "    def __getitem__(self, index):\n",
    "        return self.embeddings[index], self.labels[index]\n",
    "    \n",
    "    def __len__(self):\n",
    "        return len(self.embeddings)\n",
    "\n",
    "class DatasetLoader(DataLoader):\n",
    "    def __init__(self, target_label):\n",
    "        self.train = StatementDataset([],[])\n",
    "        self.test = StatementDataset([],[])\n",
    "        self.target_label = target_label\n",
    "    \n",
    "    def which(self,pos):\n",
    "        if pos <= SPLIT:\n",
    "            return 0\n",
    "        if pos <= SPLIT_VAL:\n",
    "            return 1\n",
    "        return 2\n",
    "    \n",
    "    def load(self):\n",
    "        print(f\"Loading {self.target_label}\")\n",
    "        idx = 0\n",
    "        problem_ids.sort(key=lambda tp: tp[0])\n",
    "        # cutoff = problem_ids[int(train_ratio*len(problem_ids))][0]\n",
    "        features = [[], [], []]\n",
    "        labels = [[], [], []]\n",
    "        for problem_id in problem_ids:\n",
    "            where = self.which(problem_id[0])\n",
    "            features[where].append(torch.tensor(embeddings_cache[problem_id]))\n",
    "            labels[where].append(torch.tensor(id_to_labels[problem_id][self.target_label]))\n",
    "        self.train = StatementDataset(features[0], labels[0])\n",
    "        self.val = StatementDataset(features[1], labels[1])\n",
    "        self.test = StatementDataset(features[2], labels[2])\n",
    "        print(\"Labels train\", sum(labels[0]), \"val\", sum(labels[1]), \"test\", sum(labels[2]))"
   ]
  },
  {
   "cell_type": "code",
   "execution_count": 30,
   "id": "48294fe4",
   "metadata": {
    "execution": {
     "iopub.execute_input": "2022-06-06T22:10:46.016580Z",
     "iopub.status.busy": "2022-06-06T22:10:46.015898Z",
     "iopub.status.idle": "2022-06-06T22:10:46.201640Z",
     "shell.execute_reply": "2022-06-06T22:10:46.200462Z",
     "shell.execute_reply.started": "2022-06-06T19:59:02.298925Z"
    },
    "papermill": {
     "duration": 0.253573,
     "end_time": "2022-06-06T22:10:46.202011",
     "exception": false,
     "start_time": "2022-06-06T22:10:45.948438",
     "status": "completed"
    },
    "tags": []
   },
   "outputs": [
    {
     "name": "stdout",
     "output_type": "stream",
     "text": [
      "Loading trees\n",
      "Labels train tensor(470) val tensor(70) test tensor(77)\n",
      "6508 894\n"
     ]
    }
   ],
   "source": [
    "loader = DatasetLoader('trees')\n",
    "loader.load()\n",
    "print(len(loader.train), len(loader.test))"
   ]
  },
  {
   "cell_type": "code",
   "execution_count": 31,
   "id": "6bf4b5da",
   "metadata": {
    "execution": {
     "iopub.execute_input": "2022-06-06T22:10:46.323838Z",
     "iopub.status.busy": "2022-06-06T22:10:46.323209Z",
     "iopub.status.idle": "2022-06-06T22:10:46.326808Z",
     "shell.execute_reply": "2022-06-06T22:10:46.326191Z",
     "shell.execute_reply.started": "2022-06-06T19:59:02.515004Z"
    },
    "papermill": {
     "duration": 0.065996,
     "end_time": "2022-06-06T22:10:46.326949",
     "exception": false,
     "start_time": "2022-06-06T22:10:46.260953",
     "status": "completed"
    },
    "tags": []
   },
   "outputs": [
    {
     "name": "stdout",
     "output_type": "stream",
     "text": [
      "False\n"
     ]
    }
   ],
   "source": [
    "import torch\n",
    "\n",
    "cuda_avail = torch.cuda.is_available()\n",
    "print(cuda_avail)"
   ]
  },
  {
   "cell_type": "code",
   "execution_count": null,
   "id": "8c7b5a94",
   "metadata": {
    "papermill": {
     "duration": 0.060735,
     "end_time": "2022-06-06T22:10:46.446173",
     "exception": false,
     "start_time": "2022-06-06T22:10:46.385438",
     "status": "completed"
    },
    "tags": []
   },
   "outputs": [],
   "source": []
  },
  {
   "cell_type": "code",
   "execution_count": 32,
   "id": "17e62f18",
   "metadata": {
    "execution": {
     "iopub.execute_input": "2022-06-06T22:10:46.579003Z",
     "iopub.status.busy": "2022-06-06T22:10:46.578252Z",
     "iopub.status.idle": "2022-06-06T22:10:47.839715Z",
     "shell.execute_reply": "2022-06-06T22:10:47.838928Z",
     "shell.execute_reply.started": "2022-06-06T19:59:02.522224Z"
    },
    "papermill": {
     "duration": 1.335697,
     "end_time": "2022-06-06T22:10:47.839880",
     "exception": false,
     "start_time": "2022-06-06T22:10:46.504183",
     "status": "completed"
    },
    "tags": []
   },
   "outputs": [],
   "source": [
    "import statistics\n",
    "\n",
    "from sklearn.metrics import f1_score, roc_auc_score\n",
    "\n",
    "def test(model, test_loader, test_size):\n",
    "    with torch.no_grad():\n",
    "        model.eval()\n",
    "        test_acc = 0.0\n",
    "        all_pred = np.array([])\n",
    "        all_true = np.array([])\n",
    "        all_prob = np.array([])\n",
    "        for i, (vectors, labels) in enumerate(test_loader):\n",
    "            if cuda_avail:\n",
    "                vectors = Variable(vectors.cuda())\n",
    "                labels = Variable(labels.cuda())\n",
    "\n",
    "            # Predict classes using images from the test set\n",
    "            outputs = model(vectors)\n",
    "            _, prediction = torch.max(outputs.data, 1)\n",
    "            # prediction = prediction.cpu().numpy()\n",
    "            # print(prediction.shape, outputs.data.shape)\n",
    "            all_pred = np.concatenate([all_pred, prediction], axis=0)\n",
    "            all_true = np.concatenate([all_true, labels], axis=0)\n",
    "            all_prob = np.concatenate([all_prob, outputs[:,1]],axis=0)\n",
    "            test_acc += torch.sum(torch.eq(prediction, labels.data))\n",
    "        \n",
    "        try:\n",
    "            f1_s  = f1_score(all_true, all_pred)\n",
    "            rc = roc_auc_score(all_true, all_prob)\n",
    "            test_acc = test_acc / test_size\n",
    "            rand_pred = np.random.rand(test_size)\n",
    "        except Exception:\n",
    "            return 0\n",
    "        # print(\"Random auc\", roc_auc_score(all_true, rand_pred))\n",
    "        # print(\"Random f1\", f1_score(all_true, np.round(rand_pred)))\n",
    "        # print(\"Tst acc\", test_acc, \"F1 score\",f1_s, \"ROC\",rc, test_size,\"Avg\", statistics.mean(all_pred), \"Real avg\", statistics.mean(all_true))\n",
    "        return f1_s"
   ]
  },
  {
   "cell_type": "code",
   "execution_count": 33,
   "id": "4415efb6",
   "metadata": {
    "execution": {
     "iopub.execute_input": "2022-06-06T22:10:47.964640Z",
     "iopub.status.busy": "2022-06-06T22:10:47.963761Z",
     "iopub.status.idle": "2022-06-06T22:10:47.966145Z",
     "shell.execute_reply": "2022-06-06T22:10:47.966745Z",
     "shell.execute_reply.started": "2022-06-06T19:59:02.537980Z"
    },
    "papermill": {
     "duration": 0.068131,
     "end_time": "2022-06-06T22:10:47.966921",
     "exception": false,
     "start_time": "2022-06-06T22:10:47.898790",
     "status": "completed"
    },
    "tags": []
   },
   "outputs": [],
   "source": [
    "try:\n",
    "    os.mkdir('models')\n",
    "except Exception as e:\n",
    "    print(e) "
   ]
  },
  {
   "cell_type": "code",
   "execution_count": 34,
   "id": "7ec0af25",
   "metadata": {
    "execution": {
     "iopub.execute_input": "2022-06-06T22:10:48.089182Z",
     "iopub.status.busy": "2022-06-06T22:10:48.088171Z",
     "iopub.status.idle": "2022-06-06T22:10:48.093090Z",
     "shell.execute_reply": "2022-06-06T22:10:48.093720Z",
     "shell.execute_reply.started": "2022-06-06T19:59:02.554596Z"
    },
    "papermill": {
     "duration": 0.068404,
     "end_time": "2022-06-06T22:10:48.093898",
     "exception": false,
     "start_time": "2022-06-06T22:10:48.025494",
     "status": "completed"
    },
    "tags": []
   },
   "outputs": [],
   "source": [
    "def save_model(model, epoch, label, percent):\n",
    "    torch.save(model.state_dict(), \"models/{}{}_accuracy{}_percent.model\".format(label,epoch,percent))\n",
    "    print(\"Checkpoint saved\")"
   ]
  },
  {
   "cell_type": "code",
   "execution_count": 35,
   "id": "0b87525a",
   "metadata": {
    "execution": {
     "iopub.execute_input": "2022-06-06T22:10:48.213823Z",
     "iopub.status.busy": "2022-06-06T22:10:48.212775Z",
     "iopub.status.idle": "2022-06-06T22:10:48.230768Z",
     "shell.execute_reply": "2022-06-06T22:10:48.231381Z",
     "shell.execute_reply.started": "2022-06-06T19:59:02.567725Z"
    },
    "papermill": {
     "duration": 0.079713,
     "end_time": "2022-06-06T22:10:48.231564",
     "exception": false,
     "start_time": "2022-06-06T22:10:48.151851",
     "status": "completed"
    },
    "tags": []
   },
   "outputs": [],
   "source": [
    "from torch.optim import Adam\n",
    "from math import floor\n",
    "\n",
    "def train(hidden_layer_size, num_epochs, target_label, learning_rate=0.001):\n",
    "    best_acc = -0.1\n",
    "    input_size = 384\n",
    "    TARGET_LABEL = target_label\n",
    "    dataset_loader = DatasetLoader(target_label)\n",
    "    dataset_loader.load()\n",
    "    train_set = dataset_loader.train\n",
    "    train_size = len(dataset_loader.train)\n",
    "    val_set = dataset_loader.val\n",
    "    val_size = len(dataset_loader.val)\n",
    "    test_set = dataset_loader.test\n",
    "    test_size = len(dataset_loader.test)\n",
    "    batch_size = 100\n",
    "    test_loader = DataLoader(test_set, batch_size=batch_size, shuffle=False, num_workers=1)\n",
    "    val_loader = DataLoader(val_set, batch_size=batch_size, shuffle=False, num_workers=1)\n",
    "    train_loader = DataLoader(train_set, batch_size=batch_size, shuffle=True, num_workers=1)\n",
    "    model = SimpleNetwork(input_size, hidden_layer_size, 2)\n",
    "    optimizer = Adam(model.parameters(), lr=learning_rate, weight_decay=0.0001)\n",
    "    loss_fn = nn.CrossEntropyLoss()\n",
    "    test_acc = 0\n",
    "    print(\"test size\", test_size)\n",
    "    for epoch in range(num_epochs):\n",
    "        # print(epoch)\n",
    "        model.train()\n",
    "        train_acc = 0.0\n",
    "        train_loss = 0.0\n",
    "        for i, (vectors, labels) in enumerate(train_loader):\n",
    "            # Move images and labels to gpu if available\n",
    "            if cuda_avail:\n",
    "                vectors = Variable(vectors.cuda())\n",
    "                labels = Variable(labels.cuda())\n",
    "\n",
    "            # Clear all accumulated gradients\n",
    "            optimizer.zero_grad()\n",
    "            # Predict classes using images from the test set\n",
    "            outputs = model(vectors)\n",
    "            # Compute the loss based on the predictions and actual labels\n",
    "            loss = loss_fn(outputs, labels)\n",
    "            # Backpropagate the loss\n",
    "            loss.backward()\n",
    "\n",
    "            # Adjust parameters according to the computed gradients\n",
    "            optimizer.step()\n",
    "\n",
    "            train_loss += loss.cpu().data.item() * vectors.size(0)\n",
    "            _, prediction = torch.max(outputs.data, 1)\n",
    "\n",
    "            train_acc += torch.sum(prediction == labels.data)\n",
    "\n",
    "        # Call the learning rate adjustment function\n",
    "        # adjust_learning_rate(epoch)\n",
    "\n",
    "        # Compute the average acc and loss over all 50000 training images\n",
    "        train_acc = train_acc / train_size\n",
    "        train_loss = train_loss / train_size\n",
    "\n",
    "        # Evaluate on the test set\n",
    "        val_acc = test(model, val_loader, val_size)\n",
    "\n",
    "        # Save the model if the test acc is greater than our current best\n",
    "        if val_acc > best_acc:\n",
    "            print(target_label, test_acc, epoch)\n",
    "            test_acc = test(model, test_loader, test_size)\n",
    "            best_model = [model, target_label, epoch, floor(test_acc*100)]\n",
    "            best_acc = test_acc\n",
    "    \n",
    "        # Print the metrics\n",
    "        # if epoch % 10 == 0:\n",
    "        #    print(\"Epoch {}, Train Accuracy: {} , TrainLoss: {} , Test Accuracy: {}\".format(epoch, train_acc, train_loss,\n",
    "        #                                                                                test_acc))\n",
    "    save_model(*best_model)\n",
    "    print(target_label, best_model[1:])\n",
    "    return {\"model_val_data\": best_model[1:], \"test_score\": test_acc}\n",
    "    #print(best_model)\n",
    "        "
   ]
  },
  {
   "cell_type": "code",
   "execution_count": 36,
   "id": "5809758e",
   "metadata": {
    "execution": {
     "iopub.execute_input": "2022-06-06T22:10:48.364081Z",
     "iopub.status.busy": "2022-06-06T22:10:48.363426Z",
     "iopub.status.idle": "2022-06-06T22:10:49.123780Z",
     "shell.execute_reply": "2022-06-06T22:10:49.124339Z",
     "shell.execute_reply.started": "2022-06-06T19:59:02.591094Z"
    },
    "papermill": {
     "duration": 0.823777,
     "end_time": "2022-06-06T22:10:49.124529",
     "exception": false,
     "start_time": "2022-06-06T22:10:48.300752",
     "status": "completed"
    },
    "tags": []
   },
   "outputs": [],
   "source": [
    "! set $TOKENIZERS_PARALLELISM=false"
   ]
  },
  {
   "cell_type": "code",
   "execution_count": 37,
   "id": "03275ff0",
   "metadata": {
    "execution": {
     "iopub.execute_input": "2022-06-06T22:10:49.250312Z",
     "iopub.status.busy": "2022-06-06T22:10:49.249629Z",
     "iopub.status.idle": "2022-06-07T05:22:44.645614Z",
     "shell.execute_reply": "2022-06-07T05:22:44.646149Z",
     "shell.execute_reply.started": "2022-06-06T19:59:03.415469Z"
    },
    "papermill": {
     "duration": 25915.462899,
     "end_time": "2022-06-07T05:22:44.646373",
     "exception": false,
     "start_time": "2022-06-06T22:10:49.183474",
     "status": "completed"
    },
    "scrolled": true,
    "tags": []
   },
   "outputs": [
    {
     "name": "stdout",
     "output_type": "stream",
     "text": [
      "Loading implementation\n",
      "Labels train tensor(1817) val tensor(203) test tensor(201)\n",
      "test size 894\n",
      "implementation 0 0\n",
      "implementation 0.0 1\n",
      "implementation 0.0 2\n",
      "implementation 0.14225941422594143 3\n",
      "implementation 0.17760617760617758 4\n",
      "implementation 0.2638888888888889 5\n",
      "implementation 0.23841059602649003 6\n",
      "implementation 0.2201834862385321 7\n",
      "implementation 0.3416666666666666 17\n",
      "Checkpoint saved\n",
      "implementation ['implementation', 17, 39]\n",
      "Loading divideandconquer\n",
      "Labels train tensor(138) val tensor(20) test tensor(31)\n",
      "test size 894\n",
      "divideandconquer 0 0\n",
      "divideandconquer 0.0 7\n",
      "divideandconquer 0.0 9\n",
      "divideandconquer 0.14035087719298245 15\n",
      "divideandconquer 0.09523809523809523 19\n",
      "Checkpoint saved\n",
      "divideandconquer ['divideandconquer', 19, 15]\n",
      "Loading stringsuffixstructures\n",
      "Labels train tensor(62) val tensor(5) test tensor(8)\n",
      "test size 894\n",
      "stringsuffixstructures 0 0\n",
      "Checkpoint saved\n",
      "stringsuffixstructures ['stringsuffixstructures', 0, 0]\n",
      "Loading dsu\n",
      "Labels train tensor(191) val tensor(26) test tensor(30)\n",
      "test size 894\n",
      "dsu 0 0\n",
      "dsu 0.0 9\n",
      "dsu 0.10526315789473685 14\n",
      "dsu 0.1142857142857143 16\n",
      "dsu 0.1739130434782609 74\n",
      "dsu 0.13043478260869568 92\n",
      "dsu 0.09090909090909091 99\n",
      "Checkpoint saved\n",
      "dsu ['dsu', 99, 8]\n",
      "Loading shortestpaths\n",
      "Labels train tensor(162) val tensor(27) test tensor(31)\n",
      "test size 894\n",
      "shortestpaths 0 0\n",
      "shortestpaths 0.0 6\n",
      "Checkpoint saved\n",
      "shortestpaths ['shortestpaths', 6, 21]\n",
      "Loading strings\n",
      "Labels train tensor(468) val tensor(65) test tensor(65)\n",
      "test size 894\n",
      "strings 0 0\n",
      "strings 0.0 1\n",
      "strings 0.5499999999999999 20\n",
      "Checkpoint saved\n",
      "strings ['strings', 20, 59]\n",
      "Loading binarysearch\n",
      "Labels train tensor(568) val tensor(97) test tensor(121)\n",
      "test size 894\n",
      "binarysearch 0 0\n",
      "binarysearch 0.0 5\n",
      "binarysearch 0.056338028169014086 6\n",
      "binarysearch 0.08974358974358976 7\n",
      "binarysearch 0.08860759493670886 8\n",
      "binarysearch 0.1619047619047619 72\n",
      "binarysearch 0.11904761904761903 74\n",
      "binarysearch 0.07407407407407407 75\n",
      "binarysearch 0.0903954802259887 76\n",
      "binarysearch 0.06535947712418301 77\n",
      "binarysearch 0.06369426751592357 78\n",
      "binarysearch 0.08235294117647059 79\n",
      "binarysearch 0.08888888888888888 80\n",
      "binarysearch 0.09756097560975609 81\n",
      "binarysearch 0.07272727272727272 82\n",
      "binarysearch 0.06289308176100629 83\n",
      "binarysearch 0.041379310344827586 84\n",
      "binarysearch 0.04054054054054054 85\n",
      "binarysearch 0.055172413793103454 86\n",
      "binarysearch 0.07741935483870968 87\n",
      "binarysearch 0.08536585365853659 88\n",
      "binarysearch 0.09467455621301776 89\n",
      "binarysearch 0.07741935483870968 90\n",
      "binarysearch 0.055172413793103454 91\n",
      "binarysearch 0.1375661375661376 92\n",
      "binarysearch 0.07547169811320754 93\n",
      "binarysearch 0.029197080291970802 94\n",
      "binarysearch 0.09876543209876543 95\n",
      "binarysearch 0.06711409395973154 96\n",
      "binarysearch 0.06666666666666667 97\n",
      "Checkpoint saved\n",
      "binarysearch ['binarysearch', 97, 18]\n",
      "Loading bruteforce\n",
      "Labels train tensor(886) val tensor(127) test tensor(158)\n",
      "test size 894\n",
      "bruteforce 0 0\n",
      "bruteforce 0.0 5\n",
      "bruteforce 0.08695652173913043 7\n",
      "bruteforce 0.0588235294117647 8\n",
      "bruteforce 0.04040404040404041 9\n",
      "bruteforce 0.08835341365461848 10\n",
      "bruteforce 0.06986899563318777 11\n",
      "bruteforce 0.1461794019933555 12\n",
      "bruteforce 0.1313868613138686 13\n",
      "bruteforce 0.09734513274336283 14\n",
      "bruteforce 0.08771929824561404 15\n",
      "bruteforce 0.13533834586466162 16\n",
      "bruteforce 0.021621621621621623 17\n",
      "bruteforce 0.09090909090909091 18\n",
      "bruteforce 0.05714285714285714 19\n",
      "bruteforce 0.05714285714285714 20\n",
      "bruteforce 0.07476635514018692 21\n",
      "bruteforce 0.029556650246305417 22\n",
      "bruteforce 0.04020100502512563 23\n",
      "bruteforce 0.1078838174273859 24\n",
      "bruteforce 0.0495049504950495 25\n",
      "bruteforce 0.09216589861751152 26\n",
      "bruteforce 0.15062761506276148 27\n",
      "bruteforce 0.14285714285714288 28\n",
      "bruteforce 0.11111111111111112 29\n",
      "bruteforce 0.1509433962264151 30\n",
      "bruteforce 0.125 31\n",
      "bruteforce 0.1382113821138211 32\n",
      "bruteforce 0.03940886699507389 33\n",
      "bruteforce 0.06829268292682926 34\n",
      "bruteforce 0.05235602094240838 35\n",
      "bruteforce 0.10300429184549356 36\n",
      "bruteforce 0.15555555555555556 37\n",
      "bruteforce 0.11382113821138211 38\n",
      "bruteforce 0.0990990990990991 39\n",
      "bruteforce 0.13114754098360656 40\n",
      "bruteforce 0.03791469194312796 41\n",
      "bruteforce 0.04854368932038835 42\n",
      "bruteforce 0.06635071090047394 43\n",
      "bruteforce 0.08771929824561404 44\n",
      "bruteforce 0.1791044776119403 77\n",
      "bruteforce 0.07476635514018692 78\n",
      "bruteforce 0.12962962962962965 79\n",
      "bruteforce 0.08294930875576037 80\n",
      "bruteforce 0.042328042328042326 81\n",
      "bruteforce 0.05050505050505051 82\n",
      "bruteforce 0.1839080459770115 83\n",
      "bruteforce 0.18360655737704917 84\n",
      "Checkpoint saved\n",
      "bruteforce ['bruteforce', 84, 19]\n",
      "Loading graphs\n",
      "Labels train tensor(666) val tensor(119) test tensor(114)\n",
      "test size 894\n",
      "graphs 0 0\n",
      "graphs 0.0 2\n",
      "graphs 0.4052287581699346 10\n",
      "graphs 0.3878787878787879 11\n",
      "graphs 0.3932584269662921 13\n",
      "graphs 0.41000000000000003 15\n",
      "graphs 0.4 16\n",
      "graphs 0.4130434782608695 20\n",
      "graphs 0.4134078212290503 25\n",
      "graphs 0.4242424242424242 27\n",
      "graphs 0.42162162162162165 28\n",
      "graphs 0.43333333333333335 37\n",
      "graphs 0.42105263157894735 38\n",
      "graphs 0.40437158469945356 40\n",
      "graphs 0.4088397790055249 41\n",
      "graphs 0.4111111111111111 42\n",
      "graphs 0.418848167539267 43\n",
      "graphs 0.41212121212121217 46\n",
      "graphs 0.39999999999999997 47\n",
      "graphs 0.4171779141104294 48\n",
      "graphs 0.4 50\n",
      "graphs 0.37078651685393255 51\n",
      "graphs 0.3728813559322034 52\n",
      "graphs 0.38947368421052636 53\n",
      "graphs 0.4252873563218391 55\n",
      "graphs 0.4117647058823529 56\n",
      "graphs 0.4108108108108108 57\n",
      "graphs 0.4277456647398844 59\n",
      "graphs 0.4171779141104294 60\n",
      "graphs 0.41530054644808745 63\n",
      "graphs 0.4023668639053254 66\n",
      "graphs 0.41860465116279066 69\n",
      "graphs 0.3756906077348066 70\n",
      "graphs 0.3756906077348066 71\n",
      "graphs 0.3974358974358975 78\n",
      "graphs 0.3763440860215054 81\n",
      "graphs 0.3804347826086956 82\n",
      "graphs 0.3777777777777777 85\n",
      "graphs 0.33142857142857146 86\n",
      "graphs 0.3660130718954248 90\n",
      "graphs 0.38674033149171266 98\n",
      "Checkpoint saved\n",
      "graphs ['graphs', 98, 38]\n",
      "Loading datastructures\n",
      "Labels train tensor(938) val tensor(155) test tensor(197)\n",
      "test size 894\n",
      "datastructures 0 0\n",
      "datastructures 0.0 2\n",
      "datastructures 0.13274336283185842 3\n",
      "datastructures 0.24812030075187969 5\n",
      "datastructures 0.2724014336917563 10\n",
      "datastructures 0.2751677852348994 11\n",
      "datastructures 0.2624113475177305 12\n",
      "datastructures 0.30612244897959184 19\n",
      "datastructures 0.3022508038585209 21\n",
      "datastructures 0.3081761006289308 83\n",
      "Checkpoint saved\n",
      "datastructures ['datastructures', 83, 35]\n",
      "Loading probabilities\n",
      "Labels train tensor(154) val tensor(24) test tensor(18)\n",
      "test size 894\n",
      "probabilities 0 0\n",
      "probabilities 0.0 2\n",
      "Checkpoint saved\n",
      "probabilities ['probabilities', 2, 53]\n",
      "Loading chineseremaindertheorem\n",
      "Labels train tensor(10) val tensor(1) test tensor(2)\n",
      "test size 894\n",
      "chineseremaindertheorem 0 0\n",
      "Checkpoint saved\n",
      "chineseremaindertheorem ['chineseremaindertheorem', 0, 0]\n",
      "Loading combinatorics\n",
      "Labels train tensor(346) val tensor(56) test tensor(59)\n",
      "test size 894\n",
      "combinatorics 0 0\n",
      "combinatorics 0.0 4\n",
      "combinatorics 0.03278688524590164 5\n",
      "combinatorics 0.19047619047619047 15\n",
      "combinatorics 0.16326530612244897 16\n",
      "combinatorics 0.11627906976744184 17\n",
      "combinatorics 0.15000000000000002 18\n",
      "combinatorics 0.07894736842105263 19\n",
      "combinatorics 0.15384615384615383 21\n",
      "combinatorics 0.12345679012345677 22\n",
      "combinatorics 0.18000000000000002 23\n",
      "combinatorics 0.10526315789473684 24\n",
      "combinatorics 0.13157894736842105 25\n",
      "combinatorics 0.12 26\n",
      "combinatorics 0.15841584158415842 27\n",
      "combinatorics 0.15384615384615385 28\n",
      "combinatorics 0.17721518987341772 29\n",
      "combinatorics 0.14285714285714285 30\n",
      "combinatorics 0.1038961038961039 31\n",
      "combinatorics 0.08450704225352114 32\n",
      "combinatorics 0.12987012987012986 34\n",
      "combinatorics 0.07792207792207792 35\n",
      "combinatorics 0.16822429906542055 36\n",
      "combinatorics 0.20689655172413796 46\n",
      "combinatorics 0.14953271028037385 48\n",
      "combinatorics 0.1348314606741573 49\n",
      "combinatorics 0.14117647058823532 50\n",
      "combinatorics 0.1038961038961039 51\n",
      "combinatorics 0.13636363636363635 54\n",
      "combinatorics 0.175 58\n",
      "combinatorics 0.1414141414141414 59\n",
      "combinatorics 0.11904761904761904 60\n",
      "combinatorics 0.14893617021276595 61\n",
      "combinatorics 0.18556701030927836 62\n",
      "combinatorics 0.08571428571428573 63\n",
      "combinatorics 0.08955223880597016 64\n",
      "combinatorics 0.11627906976744184 65\n",
      "combinatorics 0.07692307692307693 66\n",
      "combinatorics 0.1282051282051282 67\n",
      "combinatorics 0.10666666666666667 70\n",
      "combinatorics 0.10810810810810811 71\n",
      "combinatorics 0.12987012987012986 72\n",
      "combinatorics 0.12765957446808512 73\n",
      "combinatorics 0.15217391304347827 76\n",
      "combinatorics 0.18604651162790697 77\n",
      "combinatorics 0.16842105263157897 78\n",
      "combinatorics 0.15000000000000002 79\n",
      "combinatorics 0.18000000000000002 80\n",
      "combinatorics 0.175 81\n",
      "combinatorics 0.0975609756097561 82\n",
      "combinatorics 0.14117647058823532 85\n",
      "combinatorics 0.08571428571428573 86\n",
      "combinatorics 0.14117647058823532 88\n",
      "combinatorics 0.15217391304347827 89\n",
      "combinatorics 0.1616161616161616 90\n",
      "combinatorics 0.18666666666666668 91\n",
      "combinatorics 0.13157894736842105 93\n",
      "combinatorics 0.1095890410958904 94\n",
      "combinatorics 0.12987012987012986 95\n",
      "combinatorics 0.13157894736842105 97\n",
      "Checkpoint saved\n",
      "combinatorics ['combinatorics', 97, 21]\n",
      "Loading greedy\n",
      "Labels train tensor(1293) val tensor(307) test tensor(350)\n",
      "test size 894\n",
      "greedy 0 0\n",
      "greedy 0.0 3\n",
      "greedy 0.2814498933901919 6\n",
      "greedy 0.29106029106029113 7\n",
      "greedy 0.3950617283950617 11\n",
      "greedy 0.43423137876386686 12\n",
      "Checkpoint saved\n",
      "greedy ['greedy', 12, 45]\n",
      "Loading hashing\n",
      "Labels train tensor(121) val tensor(19) test tensor(20)\n",
      "test size 894\n",
      "hashing 0 0\n",
      "hashing 0.0 9\n",
      "hashing 0.0 31\n",
      "Checkpoint saved\n",
      "hashing ['hashing', 31, 0]\n",
      "Loading ternarysearch\n",
      "Labels train tensor(30) val tensor(9) test tensor(13)\n",
      "test size 894\n",
      "ternarysearch 0 0\n",
      "Checkpoint saved\n",
      "ternarysearch ['ternarysearch', 0, 0]\n",
      "Loading expressionparsing\n",
      "Labels train tensor(33) val tensor(1) test tensor(1)\n",
      "test size 894\n",
      "expressionparsing 0 0\n",
      "Checkpoint saved\n",
      "expressionparsing ['expressionparsing', 0, 0]\n",
      "Loading matrices\n",
      "Labels train tensor(87) val tensor(6) test tensor(11)\n",
      "test size 894\n",
      "matrices 0 0\n",
      "Checkpoint saved\n",
      "matrices ['matrices', 0, 0]\n",
      "Loading dfsandsimilar\n",
      "Labels train tensor(553) val tensor(87) test tensor(78)\n",
      "test size 894\n",
      "dfsandsimilar 0 0\n",
      "dfsandsimilar 0.0 4\n",
      "Checkpoint saved\n",
      "dfsandsimilar ['dfsandsimilar', 4, 35]\n",
      "Loading fft\n",
      "Labels train tensor(36) val tensor(12) test tensor(13)\n",
      "test size 894\n",
      "fft 0 0\n",
      "fft 0.0 63\n",
      "Checkpoint saved\n",
      "fft ['fft', 63, 0]\n",
      "Loading games\n",
      "Labels train tensor(117) val tensor(9) test tensor(35)\n",
      "test size 894\n",
      "games 0 0\n",
      "games 0.0 4\n",
      "games 0.5490196078431373 44\n",
      "games 0.5454545454545454 47\n",
      "Checkpoint saved\n",
      "games ['games', 47, 64]\n",
      "Loading constructivealgorithms\n",
      "Labels train tensor(775) val tensor(179) test tensor(227)\n",
      "test size 894\n",
      "constructivealgorithms 0 0\n",
      "constructivealgorithms 0.0 3\n",
      "constructivealgorithms 0.034482758620689655 5\n",
      "constructivealgorithms 0.1846153846153846 8\n",
      "Checkpoint saved\n",
      "constructivealgorithms ['constructivealgorithms', 8, 37]\n",
      "Loading dp\n",
      "Labels train tensor(1249) val tensor(194) test tensor(229)\n",
      "test size 894\n",
      "dp 0 0\n",
      "dp 0.0 3\n",
      "dp 0.017241379310344827 4\n",
      "dp 0.2119205298013245 6\n",
      "dp 0.3224181360201511 10\n",
      "dp 0.33256351039260973 13\n",
      "dp 0.3537117903930131 33\n",
      "dp 0.32242990654205606 35\n",
      "Checkpoint saved\n",
      "dp ['dp', 35, 38]\n",
      "Loading schedules\n",
      "Labels train tensor(6) val tensor(0) test tensor(1)\n",
      "test size 894\n",
      "schedules 0 0\n"
     ]
    },
    {
     "name": "stderr",
     "output_type": "stream",
     "text": [
      "/opt/conda/lib/python3.7/site-packages/sklearn/metrics/_classification.py:1570: UndefinedMetricWarning: F-score is ill-defined and being set to 0.0 due to no true nor predicted samples. Use `zero_division` parameter to control this behavior.\n",
      "  _warn_prf(average, \"true nor predicted\", \"F-score is\", len(true_sum))\n",
      "/opt/conda/lib/python3.7/site-packages/sklearn/metrics/_classification.py:1570: UndefinedMetricWarning: F-score is ill-defined and being set to 0.0 due to no true nor predicted samples. Use `zero_division` parameter to control this behavior.\n",
      "  _warn_prf(average, \"true nor predicted\", \"F-score is\", len(true_sum))\n",
      "/opt/conda/lib/python3.7/site-packages/sklearn/metrics/_classification.py:1570: UndefinedMetricWarning: F-score is ill-defined and being set to 0.0 due to no true nor predicted samples. Use `zero_division` parameter to control this behavior.\n",
      "  _warn_prf(average, \"true nor predicted\", \"F-score is\", len(true_sum))\n",
      "/opt/conda/lib/python3.7/site-packages/sklearn/metrics/_classification.py:1570: UndefinedMetricWarning: F-score is ill-defined and being set to 0.0 due to no true nor predicted samples. Use `zero_division` parameter to control this behavior.\n",
      "  _warn_prf(average, \"true nor predicted\", \"F-score is\", len(true_sum))\n",
      "/opt/conda/lib/python3.7/site-packages/sklearn/metrics/_classification.py:1570: UndefinedMetricWarning: F-score is ill-defined and being set to 0.0 due to no true nor predicted samples. Use `zero_division` parameter to control this behavior.\n",
      "  _warn_prf(average, \"true nor predicted\", \"F-score is\", len(true_sum))\n",
      "/opt/conda/lib/python3.7/site-packages/sklearn/metrics/_classification.py:1570: UndefinedMetricWarning: F-score is ill-defined and being set to 0.0 due to no true nor predicted samples. Use `zero_division` parameter to control this behavior.\n",
      "  _warn_prf(average, \"true nor predicted\", \"F-score is\", len(true_sum))\n",
      "/opt/conda/lib/python3.7/site-packages/sklearn/metrics/_classification.py:1570: UndefinedMetricWarning: F-score is ill-defined and being set to 0.0 due to no true nor predicted samples. Use `zero_division` parameter to control this behavior.\n",
      "  _warn_prf(average, \"true nor predicted\", \"F-score is\", len(true_sum))\n",
      "/opt/conda/lib/python3.7/site-packages/sklearn/metrics/_classification.py:1570: UndefinedMetricWarning: F-score is ill-defined and being set to 0.0 due to no true nor predicted samples. Use `zero_division` parameter to control this behavior.\n",
      "  _warn_prf(average, \"true nor predicted\", \"F-score is\", len(true_sum))\n",
      "/opt/conda/lib/python3.7/site-packages/sklearn/metrics/_classification.py:1570: UndefinedMetricWarning: F-score is ill-defined and being set to 0.0 due to no true nor predicted samples. Use `zero_division` parameter to control this behavior.\n",
      "  _warn_prf(average, \"true nor predicted\", \"F-score is\", len(true_sum))\n",
      "/opt/conda/lib/python3.7/site-packages/sklearn/metrics/_classification.py:1570: UndefinedMetricWarning: F-score is ill-defined and being set to 0.0 due to no true nor predicted samples. Use `zero_division` parameter to control this behavior.\n",
      "  _warn_prf(average, \"true nor predicted\", \"F-score is\", len(true_sum))\n",
      "/opt/conda/lib/python3.7/site-packages/sklearn/metrics/_classification.py:1570: UndefinedMetricWarning: F-score is ill-defined and being set to 0.0 due to no true nor predicted samples. Use `zero_division` parameter to control this behavior.\n",
      "  _warn_prf(average, \"true nor predicted\", \"F-score is\", len(true_sum))\n",
      "/opt/conda/lib/python3.7/site-packages/sklearn/metrics/_classification.py:1570: UndefinedMetricWarning: F-score is ill-defined and being set to 0.0 due to no true nor predicted samples. Use `zero_division` parameter to control this behavior.\n",
      "  _warn_prf(average, \"true nor predicted\", \"F-score is\", len(true_sum))\n",
      "/opt/conda/lib/python3.7/site-packages/sklearn/metrics/_classification.py:1570: UndefinedMetricWarning: F-score is ill-defined and being set to 0.0 due to no true nor predicted samples. Use `zero_division` parameter to control this behavior.\n",
      "  _warn_prf(average, \"true nor predicted\", \"F-score is\", len(true_sum))\n",
      "/opt/conda/lib/python3.7/site-packages/sklearn/metrics/_classification.py:1570: UndefinedMetricWarning: F-score is ill-defined and being set to 0.0 due to no true nor predicted samples. Use `zero_division` parameter to control this behavior.\n",
      "  _warn_prf(average, \"true nor predicted\", \"F-score is\", len(true_sum))\n",
      "/opt/conda/lib/python3.7/site-packages/sklearn/metrics/_classification.py:1570: UndefinedMetricWarning: F-score is ill-defined and being set to 0.0 due to no true nor predicted samples. Use `zero_division` parameter to control this behavior.\n",
      "  _warn_prf(average, \"true nor predicted\", \"F-score is\", len(true_sum))\n",
      "/opt/conda/lib/python3.7/site-packages/sklearn/metrics/_classification.py:1570: UndefinedMetricWarning: F-score is ill-defined and being set to 0.0 due to no true nor predicted samples. Use `zero_division` parameter to control this behavior.\n",
      "  _warn_prf(average, \"true nor predicted\", \"F-score is\", len(true_sum))\n",
      "/opt/conda/lib/python3.7/site-packages/sklearn/metrics/_classification.py:1570: UndefinedMetricWarning: F-score is ill-defined and being set to 0.0 due to no true nor predicted samples. Use `zero_division` parameter to control this behavior.\n",
      "  _warn_prf(average, \"true nor predicted\", \"F-score is\", len(true_sum))\n",
      "/opt/conda/lib/python3.7/site-packages/sklearn/metrics/_classification.py:1570: UndefinedMetricWarning: F-score is ill-defined and being set to 0.0 due to no true nor predicted samples. Use `zero_division` parameter to control this behavior.\n",
      "  _warn_prf(average, \"true nor predicted\", \"F-score is\", len(true_sum))\n",
      "/opt/conda/lib/python3.7/site-packages/sklearn/metrics/_classification.py:1570: UndefinedMetricWarning: F-score is ill-defined and being set to 0.0 due to no true nor predicted samples. Use `zero_division` parameter to control this behavior.\n",
      "  _warn_prf(average, \"true nor predicted\", \"F-score is\", len(true_sum))\n",
      "/opt/conda/lib/python3.7/site-packages/sklearn/metrics/_classification.py:1570: UndefinedMetricWarning: F-score is ill-defined and being set to 0.0 due to no true nor predicted samples. Use `zero_division` parameter to control this behavior.\n",
      "  _warn_prf(average, \"true nor predicted\", \"F-score is\", len(true_sum))\n",
      "/opt/conda/lib/python3.7/site-packages/sklearn/metrics/_classification.py:1570: UndefinedMetricWarning: F-score is ill-defined and being set to 0.0 due to no true nor predicted samples. Use `zero_division` parameter to control this behavior.\n",
      "  _warn_prf(average, \"true nor predicted\", \"F-score is\", len(true_sum))\n",
      "/opt/conda/lib/python3.7/site-packages/sklearn/metrics/_classification.py:1570: UndefinedMetricWarning: F-score is ill-defined and being set to 0.0 due to no true nor predicted samples. Use `zero_division` parameter to control this behavior.\n",
      "  _warn_prf(average, \"true nor predicted\", \"F-score is\", len(true_sum))\n",
      "/opt/conda/lib/python3.7/site-packages/sklearn/metrics/_classification.py:1570: UndefinedMetricWarning: F-score is ill-defined and being set to 0.0 due to no true nor predicted samples. Use `zero_division` parameter to control this behavior.\n",
      "  _warn_prf(average, \"true nor predicted\", \"F-score is\", len(true_sum))\n",
      "/opt/conda/lib/python3.7/site-packages/sklearn/metrics/_classification.py:1570: UndefinedMetricWarning: F-score is ill-defined and being set to 0.0 due to no true nor predicted samples. Use `zero_division` parameter to control this behavior.\n",
      "  _warn_prf(average, \"true nor predicted\", \"F-score is\", len(true_sum))\n",
      "/opt/conda/lib/python3.7/site-packages/sklearn/metrics/_classification.py:1570: UndefinedMetricWarning: F-score is ill-defined and being set to 0.0 due to no true nor predicted samples. Use `zero_division` parameter to control this behavior.\n",
      "  _warn_prf(average, \"true nor predicted\", \"F-score is\", len(true_sum))\n",
      "/opt/conda/lib/python3.7/site-packages/sklearn/metrics/_classification.py:1570: UndefinedMetricWarning: F-score is ill-defined and being set to 0.0 due to no true nor predicted samples. Use `zero_division` parameter to control this behavior.\n",
      "  _warn_prf(average, \"true nor predicted\", \"F-score is\", len(true_sum))\n",
      "/opt/conda/lib/python3.7/site-packages/sklearn/metrics/_classification.py:1570: UndefinedMetricWarning: F-score is ill-defined and being set to 0.0 due to no true nor predicted samples. Use `zero_division` parameter to control this behavior.\n",
      "  _warn_prf(average, \"true nor predicted\", \"F-score is\", len(true_sum))\n",
      "/opt/conda/lib/python3.7/site-packages/sklearn/metrics/_classification.py:1570: UndefinedMetricWarning: F-score is ill-defined and being set to 0.0 due to no true nor predicted samples. Use `zero_division` parameter to control this behavior.\n",
      "  _warn_prf(average, \"true nor predicted\", \"F-score is\", len(true_sum))\n",
      "/opt/conda/lib/python3.7/site-packages/sklearn/metrics/_classification.py:1570: UndefinedMetricWarning: F-score is ill-defined and being set to 0.0 due to no true nor predicted samples. Use `zero_division` parameter to control this behavior.\n",
      "  _warn_prf(average, \"true nor predicted\", \"F-score is\", len(true_sum))\n",
      "/opt/conda/lib/python3.7/site-packages/sklearn/metrics/_classification.py:1570: UndefinedMetricWarning: F-score is ill-defined and being set to 0.0 due to no true nor predicted samples. Use `zero_division` parameter to control this behavior.\n",
      "  _warn_prf(average, \"true nor predicted\", \"F-score is\", len(true_sum))\n",
      "/opt/conda/lib/python3.7/site-packages/sklearn/metrics/_classification.py:1570: UndefinedMetricWarning: F-score is ill-defined and being set to 0.0 due to no true nor predicted samples. Use `zero_division` parameter to control this behavior.\n",
      "  _warn_prf(average, \"true nor predicted\", \"F-score is\", len(true_sum))\n",
      "/opt/conda/lib/python3.7/site-packages/sklearn/metrics/_classification.py:1570: UndefinedMetricWarning: F-score is ill-defined and being set to 0.0 due to no true nor predicted samples. Use `zero_division` parameter to control this behavior.\n",
      "  _warn_prf(average, \"true nor predicted\", \"F-score is\", len(true_sum))\n",
      "/opt/conda/lib/python3.7/site-packages/sklearn/metrics/_classification.py:1570: UndefinedMetricWarning: F-score is ill-defined and being set to 0.0 due to no true nor predicted samples. Use `zero_division` parameter to control this behavior.\n",
      "  _warn_prf(average, \"true nor predicted\", \"F-score is\", len(true_sum))\n",
      "/opt/conda/lib/python3.7/site-packages/sklearn/metrics/_classification.py:1570: UndefinedMetricWarning: F-score is ill-defined and being set to 0.0 due to no true nor predicted samples. Use `zero_division` parameter to control this behavior.\n",
      "  _warn_prf(average, \"true nor predicted\", \"F-score is\", len(true_sum))\n",
      "/opt/conda/lib/python3.7/site-packages/sklearn/metrics/_classification.py:1570: UndefinedMetricWarning: F-score is ill-defined and being set to 0.0 due to no true nor predicted samples. Use `zero_division` parameter to control this behavior.\n",
      "  _warn_prf(average, \"true nor predicted\", \"F-score is\", len(true_sum))\n",
      "/opt/conda/lib/python3.7/site-packages/sklearn/metrics/_classification.py:1570: UndefinedMetricWarning: F-score is ill-defined and being set to 0.0 due to no true nor predicted samples. Use `zero_division` parameter to control this behavior.\n",
      "  _warn_prf(average, \"true nor predicted\", \"F-score is\", len(true_sum))\n",
      "/opt/conda/lib/python3.7/site-packages/sklearn/metrics/_classification.py:1570: UndefinedMetricWarning: F-score is ill-defined and being set to 0.0 due to no true nor predicted samples. Use `zero_division` parameter to control this behavior.\n",
      "  _warn_prf(average, \"true nor predicted\", \"F-score is\", len(true_sum))\n",
      "/opt/conda/lib/python3.7/site-packages/sklearn/metrics/_classification.py:1570: UndefinedMetricWarning: F-score is ill-defined and being set to 0.0 due to no true nor predicted samples. Use `zero_division` parameter to control this behavior.\n",
      "  _warn_prf(average, \"true nor predicted\", \"F-score is\", len(true_sum))\n",
      "/opt/conda/lib/python3.7/site-packages/sklearn/metrics/_classification.py:1570: UndefinedMetricWarning: F-score is ill-defined and being set to 0.0 due to no true nor predicted samples. Use `zero_division` parameter to control this behavior.\n",
      "  _warn_prf(average, \"true nor predicted\", \"F-score is\", len(true_sum))\n",
      "/opt/conda/lib/python3.7/site-packages/sklearn/metrics/_classification.py:1570: UndefinedMetricWarning: F-score is ill-defined and being set to 0.0 due to no true nor predicted samples. Use `zero_division` parameter to control this behavior.\n",
      "  _warn_prf(average, \"true nor predicted\", \"F-score is\", len(true_sum))\n",
      "/opt/conda/lib/python3.7/site-packages/sklearn/metrics/_classification.py:1570: UndefinedMetricWarning: F-score is ill-defined and being set to 0.0 due to no true nor predicted samples. Use `zero_division` parameter to control this behavior.\n",
      "  _warn_prf(average, \"true nor predicted\", \"F-score is\", len(true_sum))\n",
      "/opt/conda/lib/python3.7/site-packages/sklearn/metrics/_classification.py:1570: UndefinedMetricWarning: F-score is ill-defined and being set to 0.0 due to no true nor predicted samples. Use `zero_division` parameter to control this behavior.\n",
      "  _warn_prf(average, \"true nor predicted\", \"F-score is\", len(true_sum))\n",
      "/opt/conda/lib/python3.7/site-packages/sklearn/metrics/_classification.py:1570: UndefinedMetricWarning: F-score is ill-defined and being set to 0.0 due to no true nor predicted samples. Use `zero_division` parameter to control this behavior.\n",
      "  _warn_prf(average, \"true nor predicted\", \"F-score is\", len(true_sum))\n",
      "/opt/conda/lib/python3.7/site-packages/sklearn/metrics/_classification.py:1570: UndefinedMetricWarning: F-score is ill-defined and being set to 0.0 due to no true nor predicted samples. Use `zero_division` parameter to control this behavior.\n",
      "  _warn_prf(average, \"true nor predicted\", \"F-score is\", len(true_sum))\n",
      "/opt/conda/lib/python3.7/site-packages/sklearn/metrics/_classification.py:1570: UndefinedMetricWarning: F-score is ill-defined and being set to 0.0 due to no true nor predicted samples. Use `zero_division` parameter to control this behavior.\n",
      "  _warn_prf(average, \"true nor predicted\", \"F-score is\", len(true_sum))\n",
      "/opt/conda/lib/python3.7/site-packages/sklearn/metrics/_classification.py:1570: UndefinedMetricWarning: F-score is ill-defined and being set to 0.0 due to no true nor predicted samples. Use `zero_division` parameter to control this behavior.\n",
      "  _warn_prf(average, \"true nor predicted\", \"F-score is\", len(true_sum))\n",
      "/opt/conda/lib/python3.7/site-packages/sklearn/metrics/_classification.py:1570: UndefinedMetricWarning: F-score is ill-defined and being set to 0.0 due to no true nor predicted samples. Use `zero_division` parameter to control this behavior.\n",
      "  _warn_prf(average, \"true nor predicted\", \"F-score is\", len(true_sum))\n",
      "/opt/conda/lib/python3.7/site-packages/sklearn/metrics/_classification.py:1570: UndefinedMetricWarning: F-score is ill-defined and being set to 0.0 due to no true nor predicted samples. Use `zero_division` parameter to control this behavior.\n",
      "  _warn_prf(average, \"true nor predicted\", \"F-score is\", len(true_sum))\n",
      "/opt/conda/lib/python3.7/site-packages/sklearn/metrics/_classification.py:1570: UndefinedMetricWarning: F-score is ill-defined and being set to 0.0 due to no true nor predicted samples. Use `zero_division` parameter to control this behavior.\n",
      "  _warn_prf(average, \"true nor predicted\", \"F-score is\", len(true_sum))\n",
      "/opt/conda/lib/python3.7/site-packages/sklearn/metrics/_classification.py:1570: UndefinedMetricWarning: F-score is ill-defined and being set to 0.0 due to no true nor predicted samples. Use `zero_division` parameter to control this behavior.\n",
      "  _warn_prf(average, \"true nor predicted\", \"F-score is\", len(true_sum))\n",
      "/opt/conda/lib/python3.7/site-packages/sklearn/metrics/_classification.py:1570: UndefinedMetricWarning: F-score is ill-defined and being set to 0.0 due to no true nor predicted samples. Use `zero_division` parameter to control this behavior.\n",
      "  _warn_prf(average, \"true nor predicted\", \"F-score is\", len(true_sum))\n",
      "/opt/conda/lib/python3.7/site-packages/sklearn/metrics/_classification.py:1570: UndefinedMetricWarning: F-score is ill-defined and being set to 0.0 due to no true nor predicted samples. Use `zero_division` parameter to control this behavior.\n",
      "  _warn_prf(average, \"true nor predicted\", \"F-score is\", len(true_sum))\n",
      "/opt/conda/lib/python3.7/site-packages/sklearn/metrics/_classification.py:1570: UndefinedMetricWarning: F-score is ill-defined and being set to 0.0 due to no true nor predicted samples. Use `zero_division` parameter to control this behavior.\n",
      "  _warn_prf(average, \"true nor predicted\", \"F-score is\", len(true_sum))\n",
      "/opt/conda/lib/python3.7/site-packages/sklearn/metrics/_classification.py:1570: UndefinedMetricWarning: F-score is ill-defined and being set to 0.0 due to no true nor predicted samples. Use `zero_division` parameter to control this behavior.\n",
      "  _warn_prf(average, \"true nor predicted\", \"F-score is\", len(true_sum))\n",
      "/opt/conda/lib/python3.7/site-packages/sklearn/metrics/_classification.py:1570: UndefinedMetricWarning: F-score is ill-defined and being set to 0.0 due to no true nor predicted samples. Use `zero_division` parameter to control this behavior.\n",
      "  _warn_prf(average, \"true nor predicted\", \"F-score is\", len(true_sum))\n",
      "/opt/conda/lib/python3.7/site-packages/sklearn/metrics/_classification.py:1570: UndefinedMetricWarning: F-score is ill-defined and being set to 0.0 due to no true nor predicted samples. Use `zero_division` parameter to control this behavior.\n",
      "  _warn_prf(average, \"true nor predicted\", \"F-score is\", len(true_sum))\n",
      "/opt/conda/lib/python3.7/site-packages/sklearn/metrics/_classification.py:1570: UndefinedMetricWarning: F-score is ill-defined and being set to 0.0 due to no true nor predicted samples. Use `zero_division` parameter to control this behavior.\n",
      "  _warn_prf(average, \"true nor predicted\", \"F-score is\", len(true_sum))\n",
      "/opt/conda/lib/python3.7/site-packages/sklearn/metrics/_classification.py:1570: UndefinedMetricWarning: F-score is ill-defined and being set to 0.0 due to no true nor predicted samples. Use `zero_division` parameter to control this behavior.\n",
      "  _warn_prf(average, \"true nor predicted\", \"F-score is\", len(true_sum))\n",
      "/opt/conda/lib/python3.7/site-packages/sklearn/metrics/_classification.py:1570: UndefinedMetricWarning: F-score is ill-defined and being set to 0.0 due to no true nor predicted samples. Use `zero_division` parameter to control this behavior.\n",
      "  _warn_prf(average, \"true nor predicted\", \"F-score is\", len(true_sum))\n",
      "/opt/conda/lib/python3.7/site-packages/sklearn/metrics/_classification.py:1570: UndefinedMetricWarning: F-score is ill-defined and being set to 0.0 due to no true nor predicted samples. Use `zero_division` parameter to control this behavior.\n",
      "  _warn_prf(average, \"true nor predicted\", \"F-score is\", len(true_sum))\n",
      "/opt/conda/lib/python3.7/site-packages/sklearn/metrics/_classification.py:1570: UndefinedMetricWarning: F-score is ill-defined and being set to 0.0 due to no true nor predicted samples. Use `zero_division` parameter to control this behavior.\n",
      "  _warn_prf(average, \"true nor predicted\", \"F-score is\", len(true_sum))\n",
      "/opt/conda/lib/python3.7/site-packages/sklearn/metrics/_classification.py:1570: UndefinedMetricWarning: F-score is ill-defined and being set to 0.0 due to no true nor predicted samples. Use `zero_division` parameter to control this behavior.\n",
      "  _warn_prf(average, \"true nor predicted\", \"F-score is\", len(true_sum))\n",
      "/opt/conda/lib/python3.7/site-packages/sklearn/metrics/_classification.py:1570: UndefinedMetricWarning: F-score is ill-defined and being set to 0.0 due to no true nor predicted samples. Use `zero_division` parameter to control this behavior.\n",
      "  _warn_prf(average, \"true nor predicted\", \"F-score is\", len(true_sum))\n",
      "/opt/conda/lib/python3.7/site-packages/sklearn/metrics/_classification.py:1570: UndefinedMetricWarning: F-score is ill-defined and being set to 0.0 due to no true nor predicted samples. Use `zero_division` parameter to control this behavior.\n",
      "  _warn_prf(average, \"true nor predicted\", \"F-score is\", len(true_sum))\n",
      "/opt/conda/lib/python3.7/site-packages/sklearn/metrics/_classification.py:1570: UndefinedMetricWarning: F-score is ill-defined and being set to 0.0 due to no true nor predicted samples. Use `zero_division` parameter to control this behavior.\n",
      "  _warn_prf(average, \"true nor predicted\", \"F-score is\", len(true_sum))\n",
      "/opt/conda/lib/python3.7/site-packages/sklearn/metrics/_classification.py:1570: UndefinedMetricWarning: F-score is ill-defined and being set to 0.0 due to no true nor predicted samples. Use `zero_division` parameter to control this behavior.\n",
      "  _warn_prf(average, \"true nor predicted\", \"F-score is\", len(true_sum))\n",
      "/opt/conda/lib/python3.7/site-packages/sklearn/metrics/_classification.py:1570: UndefinedMetricWarning: F-score is ill-defined and being set to 0.0 due to no true nor predicted samples. Use `zero_division` parameter to control this behavior.\n",
      "  _warn_prf(average, \"true nor predicted\", \"F-score is\", len(true_sum))\n",
      "/opt/conda/lib/python3.7/site-packages/sklearn/metrics/_classification.py:1570: UndefinedMetricWarning: F-score is ill-defined and being set to 0.0 due to no true nor predicted samples. Use `zero_division` parameter to control this behavior.\n",
      "  _warn_prf(average, \"true nor predicted\", \"F-score is\", len(true_sum))\n",
      "/opt/conda/lib/python3.7/site-packages/sklearn/metrics/_classification.py:1570: UndefinedMetricWarning: F-score is ill-defined and being set to 0.0 due to no true nor predicted samples. Use `zero_division` parameter to control this behavior.\n",
      "  _warn_prf(average, \"true nor predicted\", \"F-score is\", len(true_sum))\n",
      "/opt/conda/lib/python3.7/site-packages/sklearn/metrics/_classification.py:1570: UndefinedMetricWarning: F-score is ill-defined and being set to 0.0 due to no true nor predicted samples. Use `zero_division` parameter to control this behavior.\n",
      "  _warn_prf(average, \"true nor predicted\", \"F-score is\", len(true_sum))\n",
      "/opt/conda/lib/python3.7/site-packages/sklearn/metrics/_classification.py:1570: UndefinedMetricWarning: F-score is ill-defined and being set to 0.0 due to no true nor predicted samples. Use `zero_division` parameter to control this behavior.\n",
      "  _warn_prf(average, \"true nor predicted\", \"F-score is\", len(true_sum))\n",
      "/opt/conda/lib/python3.7/site-packages/sklearn/metrics/_classification.py:1570: UndefinedMetricWarning: F-score is ill-defined and being set to 0.0 due to no true nor predicted samples. Use `zero_division` parameter to control this behavior.\n",
      "  _warn_prf(average, \"true nor predicted\", \"F-score is\", len(true_sum))\n",
      "/opt/conda/lib/python3.7/site-packages/sklearn/metrics/_classification.py:1570: UndefinedMetricWarning: F-score is ill-defined and being set to 0.0 due to no true nor predicted samples. Use `zero_division` parameter to control this behavior.\n",
      "  _warn_prf(average, \"true nor predicted\", \"F-score is\", len(true_sum))\n",
      "/opt/conda/lib/python3.7/site-packages/sklearn/metrics/_classification.py:1570: UndefinedMetricWarning: F-score is ill-defined and being set to 0.0 due to no true nor predicted samples. Use `zero_division` parameter to control this behavior.\n",
      "  _warn_prf(average, \"true nor predicted\", \"F-score is\", len(true_sum))\n",
      "/opt/conda/lib/python3.7/site-packages/sklearn/metrics/_classification.py:1570: UndefinedMetricWarning: F-score is ill-defined and being set to 0.0 due to no true nor predicted samples. Use `zero_division` parameter to control this behavior.\n",
      "  _warn_prf(average, \"true nor predicted\", \"F-score is\", len(true_sum))\n",
      "/opt/conda/lib/python3.7/site-packages/sklearn/metrics/_classification.py:1570: UndefinedMetricWarning: F-score is ill-defined and being set to 0.0 due to no true nor predicted samples. Use `zero_division` parameter to control this behavior.\n",
      "  _warn_prf(average, \"true nor predicted\", \"F-score is\", len(true_sum))\n",
      "/opt/conda/lib/python3.7/site-packages/sklearn/metrics/_classification.py:1570: UndefinedMetricWarning: F-score is ill-defined and being set to 0.0 due to no true nor predicted samples. Use `zero_division` parameter to control this behavior.\n",
      "  _warn_prf(average, \"true nor predicted\", \"F-score is\", len(true_sum))\n",
      "/opt/conda/lib/python3.7/site-packages/sklearn/metrics/_classification.py:1570: UndefinedMetricWarning: F-score is ill-defined and being set to 0.0 due to no true nor predicted samples. Use `zero_division` parameter to control this behavior.\n",
      "  _warn_prf(average, \"true nor predicted\", \"F-score is\", len(true_sum))\n",
      "/opt/conda/lib/python3.7/site-packages/sklearn/metrics/_classification.py:1570: UndefinedMetricWarning: F-score is ill-defined and being set to 0.0 due to no true nor predicted samples. Use `zero_division` parameter to control this behavior.\n",
      "  _warn_prf(average, \"true nor predicted\", \"F-score is\", len(true_sum))\n",
      "/opt/conda/lib/python3.7/site-packages/sklearn/metrics/_classification.py:1570: UndefinedMetricWarning: F-score is ill-defined and being set to 0.0 due to no true nor predicted samples. Use `zero_division` parameter to control this behavior.\n",
      "  _warn_prf(average, \"true nor predicted\", \"F-score is\", len(true_sum))\n",
      "/opt/conda/lib/python3.7/site-packages/sklearn/metrics/_classification.py:1570: UndefinedMetricWarning: F-score is ill-defined and being set to 0.0 due to no true nor predicted samples. Use `zero_division` parameter to control this behavior.\n",
      "  _warn_prf(average, \"true nor predicted\", \"F-score is\", len(true_sum))\n",
      "/opt/conda/lib/python3.7/site-packages/sklearn/metrics/_classification.py:1570: UndefinedMetricWarning: F-score is ill-defined and being set to 0.0 due to no true nor predicted samples. Use `zero_division` parameter to control this behavior.\n",
      "  _warn_prf(average, \"true nor predicted\", \"F-score is\", len(true_sum))\n",
      "/opt/conda/lib/python3.7/site-packages/sklearn/metrics/_classification.py:1570: UndefinedMetricWarning: F-score is ill-defined and being set to 0.0 due to no true nor predicted samples. Use `zero_division` parameter to control this behavior.\n",
      "  _warn_prf(average, \"true nor predicted\", \"F-score is\", len(true_sum))\n",
      "/opt/conda/lib/python3.7/site-packages/sklearn/metrics/_classification.py:1570: UndefinedMetricWarning: F-score is ill-defined and being set to 0.0 due to no true nor predicted samples. Use `zero_division` parameter to control this behavior.\n",
      "  _warn_prf(average, \"true nor predicted\", \"F-score is\", len(true_sum))\n",
      "/opt/conda/lib/python3.7/site-packages/sklearn/metrics/_classification.py:1570: UndefinedMetricWarning: F-score is ill-defined and being set to 0.0 due to no true nor predicted samples. Use `zero_division` parameter to control this behavior.\n",
      "  _warn_prf(average, \"true nor predicted\", \"F-score is\", len(true_sum))\n",
      "/opt/conda/lib/python3.7/site-packages/sklearn/metrics/_classification.py:1570: UndefinedMetricWarning: F-score is ill-defined and being set to 0.0 due to no true nor predicted samples. Use `zero_division` parameter to control this behavior.\n",
      "  _warn_prf(average, \"true nor predicted\", \"F-score is\", len(true_sum))\n",
      "/opt/conda/lib/python3.7/site-packages/sklearn/metrics/_classification.py:1570: UndefinedMetricWarning: F-score is ill-defined and being set to 0.0 due to no true nor predicted samples. Use `zero_division` parameter to control this behavior.\n",
      "  _warn_prf(average, \"true nor predicted\", \"F-score is\", len(true_sum))\n",
      "/opt/conda/lib/python3.7/site-packages/sklearn/metrics/_classification.py:1570: UndefinedMetricWarning: F-score is ill-defined and being set to 0.0 due to no true nor predicted samples. Use `zero_division` parameter to control this behavior.\n",
      "  _warn_prf(average, \"true nor predicted\", \"F-score is\", len(true_sum))\n",
      "/opt/conda/lib/python3.7/site-packages/sklearn/metrics/_classification.py:1570: UndefinedMetricWarning: F-score is ill-defined and being set to 0.0 due to no true nor predicted samples. Use `zero_division` parameter to control this behavior.\n",
      "  _warn_prf(average, \"true nor predicted\", \"F-score is\", len(true_sum))\n",
      "/opt/conda/lib/python3.7/site-packages/sklearn/metrics/_classification.py:1570: UndefinedMetricWarning: F-score is ill-defined and being set to 0.0 due to no true nor predicted samples. Use `zero_division` parameter to control this behavior.\n",
      "  _warn_prf(average, \"true nor predicted\", \"F-score is\", len(true_sum))\n",
      "/opt/conda/lib/python3.7/site-packages/sklearn/metrics/_classification.py:1570: UndefinedMetricWarning: F-score is ill-defined and being set to 0.0 due to no true nor predicted samples. Use `zero_division` parameter to control this behavior.\n",
      "  _warn_prf(average, \"true nor predicted\", \"F-score is\", len(true_sum))\n",
      "/opt/conda/lib/python3.7/site-packages/sklearn/metrics/_classification.py:1570: UndefinedMetricWarning: F-score is ill-defined and being set to 0.0 due to no true nor predicted samples. Use `zero_division` parameter to control this behavior.\n",
      "  _warn_prf(average, \"true nor predicted\", \"F-score is\", len(true_sum))\n",
      "/opt/conda/lib/python3.7/site-packages/sklearn/metrics/_classification.py:1570: UndefinedMetricWarning: F-score is ill-defined and being set to 0.0 due to no true nor predicted samples. Use `zero_division` parameter to control this behavior.\n",
      "  _warn_prf(average, \"true nor predicted\", \"F-score is\", len(true_sum))\n",
      "/opt/conda/lib/python3.7/site-packages/sklearn/metrics/_classification.py:1570: UndefinedMetricWarning: F-score is ill-defined and being set to 0.0 due to no true nor predicted samples. Use `zero_division` parameter to control this behavior.\n",
      "  _warn_prf(average, \"true nor predicted\", \"F-score is\", len(true_sum))\n",
      "/opt/conda/lib/python3.7/site-packages/sklearn/metrics/_classification.py:1570: UndefinedMetricWarning: F-score is ill-defined and being set to 0.0 due to no true nor predicted samples. Use `zero_division` parameter to control this behavior.\n",
      "  _warn_prf(average, \"true nor predicted\", \"F-score is\", len(true_sum))\n",
      "/opt/conda/lib/python3.7/site-packages/sklearn/metrics/_classification.py:1570: UndefinedMetricWarning: F-score is ill-defined and being set to 0.0 due to no true nor predicted samples. Use `zero_division` parameter to control this behavior.\n",
      "  _warn_prf(average, \"true nor predicted\", \"F-score is\", len(true_sum))\n",
      "/opt/conda/lib/python3.7/site-packages/sklearn/metrics/_classification.py:1570: UndefinedMetricWarning: F-score is ill-defined and being set to 0.0 due to no true nor predicted samples. Use `zero_division` parameter to control this behavior.\n",
      "  _warn_prf(average, \"true nor predicted\", \"F-score is\", len(true_sum))\n",
      "/opt/conda/lib/python3.7/site-packages/sklearn/metrics/_classification.py:1570: UndefinedMetricWarning: F-score is ill-defined and being set to 0.0 due to no true nor predicted samples. Use `zero_division` parameter to control this behavior.\n",
      "  _warn_prf(average, \"true nor predicted\", \"F-score is\", len(true_sum))\n",
      "/opt/conda/lib/python3.7/site-packages/sklearn/metrics/_classification.py:1570: UndefinedMetricWarning: F-score is ill-defined and being set to 0.0 due to no true nor predicted samples. Use `zero_division` parameter to control this behavior.\n",
      "  _warn_prf(average, \"true nor predicted\", \"F-score is\", len(true_sum))\n"
     ]
    },
    {
     "name": "stdout",
     "output_type": "stream",
     "text": [
      "Checkpoint saved\n",
      "schedules ['schedules', 0, 0]\n",
      "Loading twopointers\n",
      "Labels train tensor(234) val tensor(53) test tensor(74)\n",
      "test size 894\n"
     ]
    },
    {
     "name": "stderr",
     "output_type": "stream",
     "text": [
      "/opt/conda/lib/python3.7/site-packages/sklearn/metrics/_classification.py:1570: UndefinedMetricWarning: F-score is ill-defined and being set to 0.0 due to no true nor predicted samples. Use `zero_division` parameter to control this behavior.\n",
      "  _warn_prf(average, \"true nor predicted\", \"F-score is\", len(true_sum))\n"
     ]
    },
    {
     "name": "stdout",
     "output_type": "stream",
     "text": [
      "twopointers 0 0\n",
      "twopointers 0.0 8\n",
      "twopointers 0.075 10\n",
      "twopointers 0.06741573033707865 11\n",
      "twopointers 0.025974025974025972 12\n",
      "twopointers 0.07317073170731707 14\n",
      "twopointers 0.07317073170731707 17\n",
      "twopointers 0.04938271604938272 18\n",
      "twopointers 0.0759493670886076 20\n",
      "twopointers 0.0975609756097561 26\n",
      "twopointers 0.07058823529411765 28\n",
      "Checkpoint saved\n",
      "twopointers ['twopointers', 28, 11]\n",
      "Loading bitmasks\n",
      "Labels train tensor(233) val tensor(56) test tensor(60)\n",
      "test size 894\n",
      "bitmasks 0 0\n",
      "bitmasks 0.0 6\n",
      "bitmasks 0.03125 7\n",
      "bitmasks 0.03278688524590164 8\n",
      "bitmasks 0.031746031746031744 9\n",
      "bitmasks 0.10126582278481013 10\n",
      "bitmasks 0.07594936708860761 11\n",
      "bitmasks 0.0 12\n",
      "bitmasks 0.052631578947368425 13\n",
      "bitmasks 0.09876543209876543 22\n",
      "bitmasks 0.07594936708860761 23\n",
      "bitmasks 0.02702702702702703 24\n",
      "bitmasks 0.029411764705882353 25\n",
      "bitmasks 0.029411764705882353 26\n",
      "bitmasks 0.028169014084507043 27\n",
      "bitmasks 0.056338028169014086 28\n",
      "bitmasks 0.0 29\n",
      "bitmasks 0.07894736842105264 32\n",
      "bitmasks 0.08988764044943821 33\n",
      "bitmasks 0.029411764705882353 34\n",
      "bitmasks 0.10256410256410256 37\n",
      "bitmasks 0.08333333333333334 38\n",
      "bitmasks 0.028985507246376812 39\n",
      "bitmasks 0.0 40\n",
      "bitmasks 0.0 41\n",
      "bitmasks 0.029850746268656716 42\n",
      "bitmasks 0.0 43\n",
      "bitmasks 0.0 44\n",
      "bitmasks 0.12987012987012986 56\n",
      "bitmasks 0.1 59\n",
      "bitmasks 0.11764705882352941 79\n",
      "Checkpoint saved\n",
      "bitmasks ['bitmasks', 79, 16]\n",
      "Loading meet-in-the-middle\n",
      "Labels train tensor(29) val tensor(6) test tensor(1)\n",
      "test size 894\n",
      "meet-in-the-middle 0 0\n",
      "Checkpoint saved\n",
      "meet-in-the-middle ['meet-in-the-middle', 0, 0]\n",
      "Loading flows\n",
      "Labels train tensor(82) val tensor(7) test tensor(20)\n",
      "test size 894\n",
      "flows 0 0\n",
      "Checkpoint saved\n",
      "flows ['flows', 0, 0]\n",
      "Loading sortings\n",
      "Labels train tensor(535) val tensor(100) test tensor(124)\n",
      "test size 894\n",
      "sortings 0 0\n",
      "sortings 0.0 5\n",
      "sortings 0.04411764705882353 6\n",
      "sortings 0.07843137254901962 7\n",
      "sortings 0.14659685863874344 8\n",
      "sortings 0.11764705882352942 9\n",
      "sortings 0.08235294117647057 10\n",
      "sortings 0.05442176870748299 11\n",
      "sortings 0.18274111675126906 13\n",
      "sortings 0.18579234972677594 14\n",
      "sortings 0.14035087719298248 15\n",
      "sortings 0.13953488372093023 16\n",
      "sortings 0.1139240506329114 17\n",
      "sortings 0.15053763440860216 18\n",
      "sortings 0.14723926380368096 19\n",
      "sortings 0.13496932515337423 20\n",
      "sortings 0.11920529801324503 21\n",
      "sortings 0.18478260869565216 22\n",
      "sortings 0.11250000000000002 23\n",
      "sortings 0.10526315789473685 24\n",
      "sortings 0.20792079207920788 25\n",
      "sortings 0.15957446808510636 26\n",
      "sortings 0.09090909090909091 27\n",
      "sortings 0.10526315789473685 28\n",
      "sortings 0.12658227848101267 29\n",
      "sortings 0.1286549707602339 30\n",
      "sortings 0.13333333333333333 31\n",
      "sortings 0.12790697674418605 32\n",
      "sortings 0.17989417989417988 33\n",
      "sortings 0.15469613259668508 34\n",
      "sortings 0.1301775147928994 35\n",
      "sortings 0.12941176470588237 36\n",
      "sortings 0.15294117647058822 37\n",
      "sortings 0.11842105263157895 38\n",
      "sortings 0.10191082802547771 39\n",
      "sortings 0.12658227848101267 40\n",
      "sortings 0.1038961038961039 41\n",
      "sortings 0.0704225352112676 42\n",
      "sortings 0.10666666666666666 43\n",
      "sortings 0.0689655172413793 44\n",
      "sortings 0.08450704225352113 45\n",
      "sortings 0.12121212121212122 46\n",
      "sortings 0.07947019867549668 47\n",
      "sortings 0.11250000000000002 48\n",
      "sortings 0.1111111111111111 49\n",
      "sortings 0.08053691275167785 50\n",
      "sortings 0.12048192771084337 51\n",
      "sortings 0.11180124223602486 52\n",
      "sortings 0.07894736842105263 53\n",
      "sortings 0.13496932515337423 54\n",
      "sortings 0.1153846153846154 55\n",
      "sortings 0.08974358974358974 56\n",
      "sortings 0.10457516339869281 57\n",
      "sortings 0.16184971098265896 59\n",
      "sortings 0.09090909090909091 60\n",
      "sortings 0.09395973154362416 61\n",
      "sortings 0.1627906976744186 62\n",
      "sortings 0.09876543209876543 63\n",
      "sortings 0.17142857142857143 64\n",
      "sortings 0.1038961038961039 65\n",
      "sortings 0.07947019867549668 66\n",
      "sortings 0.09523809523809523 67\n",
      "sortings 0.12121212121212122 68\n",
      "sortings 0.0821917808219178 69\n",
      "sortings 0.08333333333333333 70\n",
      "sortings 0.16853932584269665 71\n",
      "Checkpoint saved\n",
      "sortings ['sortings', 71, 27]\n",
      "Loading interactive\n",
      "Labels train tensor(82) val tensor(22) test tensor(41)\n",
      "test size 894\n",
      "interactive 0 0\n",
      "interactive 0.0 4\n",
      "interactive 0.32 6\n",
      "Checkpoint saved\n",
      "interactive ['interactive', 6, 51]\n",
      "Loading graphmatchings\n",
      "Labels train tensor(48) val tensor(5) test tensor(12)\n",
      "test size 894\n",
      "graphmatchings 0 0\n",
      "Checkpoint saved\n",
      "graphmatchings ['graphmatchings', 0, 0]\n",
      "Loading geometry\n",
      "Labels train tensor(287) val tensor(24) test tensor(32)\n",
      "test size 894\n",
      "geometry 0 0\n",
      "geometry 0.0 2\n",
      "geometry 0.3902439024390244 3\n",
      "geometry 0.5 10\n",
      "Checkpoint saved\n",
      "geometry ['geometry', 10, 59]\n",
      "Loading 2-sat\n",
      "Labels train tensor(15) val tensor(4) test tensor(6)\n",
      "test size 894\n",
      "2-sat 0 0\n",
      "Checkpoint saved\n",
      "2-sat ['2-sat', 0, 0]\n",
      "Loading math\n",
      "Labels train tensor(1448) val tensor(281) test tensor(298)\n",
      "test size 894\n",
      "math 0 0\n",
      "math 0.0 2\n",
      "math 0.3413333333333334 3\n",
      "math 0.4126213592233009 4\n",
      "Checkpoint saved\n",
      "math ['math', 4, 54]\n",
      "Loading numbertheory\n",
      "Labels train tensor(417) val tensor(66) test tensor(71)\n",
      "test size 894\n",
      "numbertheory 0 0\n",
      "numbertheory 0.0 2\n",
      "numbertheory 0.39999999999999997 3\n",
      "numbertheory 0.4444444444444444 7\n",
      "numbertheory 0.42857142857142855 8\n",
      "numbertheory 0.4031007751937985 9\n",
      "numbertheory 0.4077669902912621 10\n",
      "numbertheory 0.39316239316239315 11\n",
      "numbertheory 0.3883495145631068 12\n",
      "numbertheory 0.3695652173913044 13\n",
      "numbertheory 0.40287769784172656 14\n",
      "numbertheory 0.396551724137931 15\n",
      "numbertheory 0.3709677419354839 16\n",
      "numbertheory 0.41739130434782606 18\n",
      "numbertheory 0.3877551020408163 19\n",
      "numbertheory 0.39603960396039606 20\n",
      "numbertheory 0.40336134453781514 21\n",
      "numbertheory 0.41071428571428575 22\n",
      "numbertheory 0.39252336448598135 23\n",
      "numbertheory 0.4181818181818182 24\n",
      "numbertheory 0.38333333333333336 25\n",
      "numbertheory 0.39622641509433965 26\n",
      "numbertheory 0.4242424242424242 27\n",
      "numbertheory 0.45098039215686275 28\n",
      "numbertheory 0.42990654205607476 29\n",
      "numbertheory 0.4 30\n",
      "numbertheory 0.39999999999999997 31\n",
      "numbertheory 0.43999999999999995 32\n",
      "numbertheory 0.38983050847457634 33\n",
      "numbertheory 0.4181818181818182 34\n",
      "numbertheory 0.41441441441441446 35\n",
      "numbertheory 0.411214953271028 36\n",
      "numbertheory 0.41025641025641024 37\n",
      "numbertheory 0.40366972477064217 38\n",
      "numbertheory 0.43564356435643564 39\n",
      "numbertheory 0.4230769230769231 40\n",
      "numbertheory 0.4067796610169492 41\n",
      "numbertheory 0.33962264150943394 42\n",
      "numbertheory 0.4035087719298246 43\n",
      "numbertheory 0.39316239316239315 44\n",
      "numbertheory 0.40336134453781514 45\n",
      "numbertheory 0.36641221374045807 46\n",
      "numbertheory 0.39344262295081966 47\n",
      "numbertheory 0.39285714285714285 48\n",
      "numbertheory 0.4 49\n",
      "numbertheory 0.41025641025641024 50\n",
      "numbertheory 0.38181818181818183 51\n",
      "numbertheory 0.4137931034482758 53\n",
      "numbertheory 0.41441441441441446 54\n",
      "numbertheory 0.3877551020408163 55\n",
      "numbertheory 0.39999999999999997 56\n",
      "numbertheory 0.39622641509433965 57\n",
      "numbertheory 0.41584158415841577 58\n",
      "numbertheory 0.39622641509433965 59\n",
      "numbertheory 0.41739130434782606 60\n",
      "numbertheory 0.38888888888888884 61\n",
      "numbertheory 0.39999999999999997 62\n",
      "numbertheory 0.3725490196078431 63\n",
      "numbertheory 0.3870967741935484 64\n",
      "numbertheory 0.42201834862385323 65\n",
      "numbertheory 0.39024390243902435 67\n",
      "numbertheory 0.4035087719298246 68\n",
      "numbertheory 0.40366972477064217 69\n",
      "numbertheory 0.396551724137931 70\n",
      "numbertheory 0.37209302325581395 72\n",
      "numbertheory 0.37288135593220334 73\n",
      "numbertheory 0.3760683760683761 74\n",
      "numbertheory 0.39024390243902435 75\n",
      "numbertheory 0.40707964601769914 76\n",
      "numbertheory 0.42105263157894735 77\n",
      "numbertheory 0.38181818181818183 78\n",
      "numbertheory 0.42105263157894735 79\n",
      "numbertheory 0.4247787610619469 80\n",
      "numbertheory 0.39999999999999997 81\n",
      "numbertheory 0.39639639639639634 82\n",
      "numbertheory 0.41441441441441446 83\n",
      "numbertheory 0.380952380952381 84\n",
      "numbertheory 0.38 85\n",
      "numbertheory 0.41025641025641024 86\n",
      "numbertheory 0.36666666666666664 87\n",
      "numbertheory 0.39999999999999997 88\n",
      "numbertheory 0.3716814159292035 89\n",
      "numbertheory 0.37037037037037035 90\n",
      "numbertheory 0.35185185185185186 91\n",
      "numbertheory 0.3636363636363636 92\n",
      "numbertheory 0.3716814159292035 93\n",
      "numbertheory 0.37837837837837845 94\n",
      "numbertheory 0.3859649122807017 95\n",
      "numbertheory 0.38532110091743127 96\n",
      "numbertheory 0.3716814159292035 97\n",
      "numbertheory 0.3773584905660377 98\n",
      "numbertheory 0.3636363636363636 99\n",
      "Checkpoint saved\n",
      "numbertheory ['numbertheory', 99, 35]\n",
      "Loading trees\n",
      "Labels train tensor(470) val tensor(70) test tensor(77)\n",
      "test size 894\n",
      "trees 0 0\n",
      "trees 0.0 1\n",
      "trees 0.5663716814159292 2\n",
      "trees 0.5689655172413793 3\n",
      "trees 0.5901639344262295 4\n",
      "trees 0.6046511627906975 5\n",
      "trees 0.5517241379310346 6\n",
      "trees 0.5263157894736842 7\n",
      "trees 0.5648854961832062 8\n",
      "trees 0.5789473684210527 9\n",
      "trees 0.5454545454545454 11\n",
      "trees 0.5691056910569106 12\n",
      "trees 0.5573770491803278 13\n",
      "trees 0.4778761061946903 14\n",
      "trees 0.38 15\n",
      "trees 0.5 16\n",
      "trees 0.532258064516129 17\n",
      "trees 0.5736434108527132 18\n",
      "trees 0.5217391304347826 19\n",
      "trees 0.45045045045045046 20\n",
      "trees 0.5757575757575758 21\n",
      "trees 0.5671641791044776 22\n",
      "trees 0.564516129032258 24\n",
      "trees 0.5873015873015873 25\n",
      "trees 0.540983606557377 26\n",
      "trees 0.5669291338582677 27\n",
      "trees 0.6016260162601625 28\n",
      "trees 0.5641025641025641 29\n",
      "trees 0.5954198473282442 30\n",
      "trees 0.5263157894736842 31\n",
      "trees 0.5714285714285715 32\n",
      "trees 0.578125 34\n",
      "trees 0.5045045045045046 35\n",
      "trees 0.5901639344262295 36\n",
      "trees 0.5691056910569106 37\n",
      "trees 0.5737704918032788 38\n",
      "trees 0.5470085470085471 39\n",
      "trees 0.5967741935483871 40\n",
      "trees 0.5546218487394958 42\n",
      "trees 0.5454545454545454 43\n",
      "trees 0.5245901639344263 44\n",
      "trees 0.4727272727272727 45\n",
      "trees 0.5254237288135593 46\n",
      "trees 0.5619834710743802 47\n",
      "trees 0.5378151260504201 48\n",
      "trees 0.5254237288135593 49\n",
      "trees 0.5785123966942148 50\n",
      "trees 0.5299145299145299 51\n",
      "trees 0.5000000000000001 52\n",
      "trees 0.578125 53\n",
      "trees 0.5826771653543307 54\n",
      "trees 0.5217391304347826 55\n",
      "trees 0.5470085470085471 56\n",
      "trees 0.5737704918032788 57\n",
      "trees 0.49090909090909085 58\n",
      "trees 0.59375 59\n",
      "trees 0.5957446808510638 61\n",
      "trees 0.5528455284552846 62\n",
      "trees 0.5454545454545454 63\n",
      "trees 0.5511811023622047 64\n",
      "trees 0.5546218487394958 65\n",
      "trees 0.5864661654135338 66\n",
      "trees 0.56 67\n",
      "trees 0.4912280701754386 68\n",
      "trees 0.5 69\n",
      "trees 0.5128205128205129 70\n",
      "trees 0.4727272727272727 71\n",
      "trees 0.5210084033613446 72\n",
      "trees 0.5669291338582677 73\n",
      "trees 0.5365853658536586 74\n",
      "trees 0.5984251968503937 75\n",
      "trees 0.5760000000000001 76\n",
      "trees 0.5128205128205129 77\n",
      "trees 0.6099290780141843 78\n",
      "trees 0.5084745762711864 79\n",
      "trees 0.5454545454545454 80\n",
      "trees 0.5671641791044776 81\n",
      "trees 0.5378151260504201 82\n",
      "trees 0.5289256198347109 83\n",
      "trees 0.5671641791044776 84\n",
      "trees 0.5217391304347826 85\n",
      "trees 0.5666666666666667 86\n",
      "trees 0.5873015873015873 87\n",
      "trees 0.5517241379310346 88\n",
      "trees 0.48739495798319327 89\n",
      "trees 0.5423728813559323 90\n",
      "trees 0.5757575757575758 91\n",
      "trees 0.5210084033613446 92\n",
      "trees 0.4912280701754386 93\n",
      "trees 0.5210084033613446 94\n",
      "trees 0.5423728813559323 95\n",
      "trees 0.536231884057971 96\n",
      "trees 0.4769230769230769 97\n",
      "Checkpoint saved\n",
      "trees ['trees', 97, 53]\n"
     ]
    }
   ],
   "source": [
    "from torch.utils.data import DataLoader\n",
    "\n",
    "meta = {}\n",
    "for tag in filtered_tags:\n",
    "    meta[tag] = train(400, 100, tag, learning_rate=0.0005)"
   ]
  },
  {
   "cell_type": "markdown",
   "id": "67c89898",
   "metadata": {
    "papermill": {
     "duration": 0.311381,
     "end_time": "2022-06-07T05:22:45.269019",
     "exception": false,
     "start_time": "2022-06-07T05:22:44.957638",
     "status": "completed"
    },
    "tags": []
   },
   "source": [
    "# TO DO:\n",
    "1. Switch to binary cross entropy if needed\n",
    "2. BCE with logits loss for more targets at once?\n",
    "3. Properly cite all resources"
   ]
  },
  {
   "cell_type": "markdown",
   "id": "7f87c2d2",
   "metadata": {
    "papermill": {
     "duration": 0.309537,
     "end_time": "2022-06-07T05:22:45.892544",
     "exception": false,
     "start_time": "2022-06-07T05:22:45.583007",
     "status": "completed"
    },
    "tags": []
   },
   "source": []
  },
  {
   "cell_type": "code",
   "execution_count": 38,
   "id": "be9c06e6",
   "metadata": {
    "execution": {
     "iopub.execute_input": "2022-06-07T05:22:46.522002Z",
     "iopub.status.busy": "2022-06-07T05:22:46.520833Z",
     "iopub.status.idle": "2022-06-07T05:22:46.525402Z",
     "shell.execute_reply": "2022-06-07T05:22:46.524876Z",
     "shell.execute_reply.started": "2022-06-06T20:01:03.918942Z"
    },
    "papermill": {
     "duration": 0.322403,
     "end_time": "2022-06-07T05:22:46.525550",
     "exception": false,
     "start_time": "2022-06-07T05:22:46.203147",
     "status": "completed"
    },
    "tags": []
   },
   "outputs": [],
   "source": [
    "import json\n",
    "with open(\"meta.json\", \"w\") as f:\n",
    "    json.dump(meta, f)"
   ]
  },
  {
   "cell_type": "code",
   "execution_count": 39,
   "id": "5b549a5a",
   "metadata": {
    "execution": {
     "iopub.execute_input": "2022-06-07T05:22:47.158136Z",
     "iopub.status.busy": "2022-06-07T05:22:47.157422Z",
     "iopub.status.idle": "2022-06-07T05:22:47.163000Z",
     "shell.execute_reply": "2022-06-07T05:22:47.162376Z",
     "shell.execute_reply.started": "2022-06-06T20:02:46.433660Z"
    },
    "papermill": {
     "duration": 0.322223,
     "end_time": "2022-06-07T05:22:47.163172",
     "exception": false,
     "start_time": "2022-06-07T05:22:46.840949",
     "status": "completed"
    },
    "tags": []
   },
   "outputs": [],
   "source": [
    "# train(200, 100, \"dp\", learning_rate=0.0005)"
   ]
  },
  {
   "cell_type": "code",
   "execution_count": 40,
   "id": "c97b3a75",
   "metadata": {
    "execution": {
     "iopub.execute_input": "2022-06-07T05:22:47.791996Z",
     "iopub.status.busy": "2022-06-07T05:22:47.791294Z",
     "iopub.status.idle": "2022-06-07T05:22:47.793905Z",
     "shell.execute_reply": "2022-06-07T05:22:47.793367Z",
     "shell.execute_reply.started": "2022-06-06T21:22:18.324773Z"
    },
    "papermill": {
     "duration": 0.318372,
     "end_time": "2022-06-07T05:22:47.794063",
     "exception": false,
     "start_time": "2022-06-07T05:22:47.475691",
     "status": "completed"
    },
    "tags": []
   },
   "outputs": [],
   "source": [
    "# train(400, 100, \"dp\", learning_rate=0.001)"
   ]
  },
  {
   "cell_type": "code",
   "execution_count": 41,
   "id": "5bcfe558",
   "metadata": {
    "execution": {
     "iopub.execute_input": "2022-06-07T05:22:48.438747Z",
     "iopub.status.busy": "2022-06-07T05:22:48.437995Z",
     "iopub.status.idle": "2022-06-07T05:22:48.440597Z",
     "shell.execute_reply": "2022-06-07T05:22:48.440082Z",
     "shell.execute_reply.started": "2022-06-06T20:28:16.259032Z"
    },
    "papermill": {
     "duration": 0.332297,
     "end_time": "2022-06-07T05:22:48.440756",
     "exception": false,
     "start_time": "2022-06-07T05:22:48.108459",
     "status": "completed"
    },
    "tags": []
   },
   "outputs": [],
   "source": [
    "# train(200, 100, \"dp\", learning_rate=0.0002)"
   ]
  },
  {
   "cell_type": "code",
   "execution_count": 42,
   "id": "1649e246",
   "metadata": {
    "execution": {
     "iopub.execute_input": "2022-06-07T05:22:49.069674Z",
     "iopub.status.busy": "2022-06-07T05:22:49.069035Z",
     "iopub.status.idle": "2022-06-07T05:22:49.073322Z",
     "shell.execute_reply": "2022-06-07T05:22:49.072765Z",
     "shell.execute_reply.started": "2022-06-06T20:32:18.446145Z"
    },
    "papermill": {
     "duration": 0.320076,
     "end_time": "2022-06-07T05:22:49.073466",
     "exception": false,
     "start_time": "2022-06-07T05:22:48.753390",
     "status": "completed"
    },
    "tags": []
   },
   "outputs": [],
   "source": [
    "# train(400, 100, \"dp\", learning_rate=0.0002)"
   ]
  },
  {
   "cell_type": "code",
   "execution_count": 43,
   "id": "77e2edef",
   "metadata": {
    "execution": {
     "iopub.execute_input": "2022-06-07T05:22:49.722834Z",
     "iopub.status.busy": "2022-06-07T05:22:49.722082Z",
     "iopub.status.idle": "2022-06-07T05:22:49.724703Z",
     "shell.execute_reply": "2022-06-07T05:22:49.725213Z",
     "shell.execute_reply.started": "2022-06-06T20:43:18.961480Z"
    },
    "papermill": {
     "duration": 0.344401,
     "end_time": "2022-06-07T05:22:49.725434",
     "exception": false,
     "start_time": "2022-06-07T05:22:49.381033",
     "status": "completed"
    },
    "tags": []
   },
   "outputs": [],
   "source": [
    "# train(400, 100, \"dp\", learning_rate=0.0005)"
   ]
  },
  {
   "cell_type": "code",
   "execution_count": 44,
   "id": "c926ea57",
   "metadata": {
    "execution": {
     "iopub.execute_input": "2022-06-07T05:22:50.355568Z",
     "iopub.status.busy": "2022-06-07T05:22:50.354882Z",
     "iopub.status.idle": "2022-06-07T05:22:56.744304Z",
     "shell.execute_reply": "2022-06-07T05:22:56.743675Z",
     "shell.execute_reply.started": "2022-06-06T22:08:44.547405Z"
    },
    "papermill": {
     "duration": 6.703549,
     "end_time": "2022-06-07T05:22:56.744471",
     "exception": false,
     "start_time": "2022-06-07T05:22:50.040922",
     "status": "completed"
    },
    "tags": []
   },
   "outputs": [
    {
     "name": "stdout",
     "output_type": "stream",
     "text": [
      "Loading implementation\n",
      "Labels train tensor(1817) val tensor(203) test tensor(201)\n",
      "Loading divideandconquer\n",
      "Labels train tensor(138) val tensor(20) test tensor(31)\n",
      "Loading stringsuffixstructures\n",
      "Labels train tensor(62) val tensor(5) test tensor(8)\n",
      "Loading dsu\n",
      "Labels train tensor(191) val tensor(26) test tensor(30)\n",
      "Loading shortestpaths\n",
      "Labels train tensor(162) val tensor(27) test tensor(31)\n",
      "Loading strings\n",
      "Labels train tensor(468) val tensor(65) test tensor(65)\n",
      "Loading binarysearch\n",
      "Labels train tensor(568) val tensor(97) test tensor(121)\n",
      "Loading bruteforce\n",
      "Labels train tensor(886) val tensor(127) test tensor(158)\n",
      "Loading graphs\n",
      "Labels train tensor(666) val tensor(119) test tensor(114)\n",
      "Loading datastructures\n",
      "Labels train tensor(938) val tensor(155) test tensor(197)\n",
      "Loading probabilities\n",
      "Labels train tensor(154) val tensor(24) test tensor(18)\n",
      "Loading chineseremaindertheorem\n",
      "Labels train tensor(10) val tensor(1) test tensor(2)\n",
      "Loading combinatorics\n",
      "Labels train tensor(346) val tensor(56) test tensor(59)\n",
      "Loading greedy\n",
      "Labels train tensor(1293) val tensor(307) test tensor(350)\n",
      "Loading hashing\n",
      "Labels train tensor(121) val tensor(19) test tensor(20)\n",
      "Loading ternarysearch\n",
      "Labels train tensor(30) val tensor(9) test tensor(13)\n",
      "Loading expressionparsing\n",
      "Labels train tensor(33) val tensor(1) test tensor(1)\n",
      "Loading matrices\n",
      "Labels train tensor(87) val tensor(6) test tensor(11)\n",
      "Loading dfsandsimilar\n",
      "Labels train tensor(553) val tensor(87) test tensor(78)\n",
      "Loading fft\n",
      "Labels train tensor(36) val tensor(12) test tensor(13)\n",
      "Loading games\n",
      "Labels train tensor(117) val tensor(9) test tensor(35)\n",
      "Loading constructivealgorithms\n",
      "Labels train tensor(775) val tensor(179) test tensor(227)\n",
      "Loading dp\n",
      "Labels train tensor(1249) val tensor(194) test tensor(229)\n",
      "Loading schedules\n",
      "Labels train tensor(6) val tensor(0) test tensor(1)\n",
      "Loading twopointers\n",
      "Labels train tensor(234) val tensor(53) test tensor(74)\n",
      "Loading bitmasks\n",
      "Labels train tensor(233) val tensor(56) test tensor(60)\n",
      "Loading meet-in-the-middle\n",
      "Labels train tensor(29) val tensor(6) test tensor(1)\n",
      "Loading flows\n",
      "Labels train tensor(82) val tensor(7) test tensor(20)\n",
      "Loading sortings\n",
      "Labels train tensor(535) val tensor(100) test tensor(124)\n",
      "Loading interactive\n",
      "Labels train tensor(82) val tensor(22) test tensor(41)\n",
      "Loading graphmatchings\n",
      "Labels train tensor(48) val tensor(5) test tensor(12)\n",
      "Loading geometry\n",
      "Labels train tensor(287) val tensor(24) test tensor(32)\n",
      "Loading 2-sat\n",
      "Labels train tensor(15) val tensor(4) test tensor(6)\n",
      "Loading math\n",
      "Labels train tensor(1448) val tensor(281) test tensor(298)\n",
      "Loading numbertheory\n",
      "Labels train tensor(417) val tensor(66) test tensor(71)\n",
      "Loading trees\n",
      "Labels train tensor(470) val tensor(70) test tensor(77)\n"
     ]
    }
   ],
   "source": [
    "for target_label in filtered_tags:\n",
    "    ds = DatasetLoader(target_label)\n",
    "    ds.load()"
   ]
  }
 ],
 "metadata": {
  "kernelspec": {
   "display_name": "Python 3",
   "language": "python",
   "name": "python3"
  },
  "language_info": {
   "codemirror_mode": {
    "name": "ipython",
    "version": 3
   },
   "file_extension": ".py",
   "mimetype": "text/x-python",
   "name": "python",
   "nbconvert_exporter": "python",
   "pygments_lexer": "ipython3",
   "version": "3.7.12"
  },
  "papermill": {
   "default_parameters": {},
   "duration": 25966.607727,
   "end_time": "2022-06-07T05:22:58.334385",
   "environment_variables": {},
   "exception": null,
   "input_path": "__notebook__.ipynb",
   "output_path": "__notebook__.ipynb",
   "parameters": {},
   "start_time": "2022-06-06T22:10:11.726658",
   "version": "2.3.3"
  }
 },
 "nbformat": 4,
 "nbformat_minor": 5
}
